{
  "nbformat": 4,
  "nbformat_minor": 0,
  "metadata": {
    "colab": {
      "name": "SinGAN.ipynb",
      "provenance": [],
      "collapsed_sections": [],
      "toc_visible": true,
      "include_colab_link": true
    },
    "kernelspec": {
      "name": "python3",
      "display_name": "Python 3"
    },
    "accelerator": "GPU"
  },
  "cells": [
    {
      "cell_type": "markdown",
      "metadata": {
        "id": "view-in-github",
        "colab_type": "text"
      },
      "source": [
        "<a href=\"https://colab.research.google.com/github/dvschultz/artificial-images/blob/master/SinGAN.ipynb\" target=\"_parent\"><img src=\"https://colab.research.google.com/assets/colab-badge.svg\" alt=\"Open In Colab\"/></a>"
      ]
    },
    {
      "cell_type": "markdown",
      "metadata": {
        "id": "oo6DvqDiB9C9",
        "colab_type": "text"
      },
      "source": [
        "#SinGAN\n",
        "SinGAN is a ML library that allows you to do a lot of different things with one image as your dataset. As we’ve previously discussed usually you need a ton of images to be able to do anything in ML, so SinGAN needing only one image is a huge change.\n",
        "\n",
        "It is, however, important to keep in mind what its outputs are. SinGAN, to me, is most like Photoshop’s Context Aware tools. It allows you to manipulate the single image in interesting ways, but in the end is only going to return you that same image, slightly modified. SinGAN is a bit of a Swiss Army Knife and that makes it pretty cool in a world of single-use ML tools.\n",
        "\n",
        "Let’s take a look."
      ]
    },
    {
      "cell_type": "markdown",
      "metadata": {
        "id": "ml04N83FROe-",
        "colab_type": "text"
      },
      "source": [
        "##Set up our Runtime\n",
        "Colab needs to know we need to use a GPU-powered machine in order to do style transfers. At the top of this page, click on the `Runtime` tab, then select `Change runtime type`. In the modal that pops up, select `GPU` under the `Hardware accelerator` options.\n",
        "\n",
        "We then need to make sure we’re using the latest version of Tensorflow 1, otherwise we get some annoying messages."
      ]
    },
    {
      "cell_type": "code",
      "metadata": {
        "id": "1BMdAScclQVN",
        "colab_type": "code",
        "outputId": "e5026ea4-c361-48c9-96e7-2cfc0147910b",
        "colab": {
          "base_uri": "https://localhost:8080/",
          "height": 34
        }
      },
      "source": [
        "# use tensorflow 1.15 to avoid some issues\n",
        "# Restart runtime using 'Runtime' -> 'Restart runtime...'\n",
        "%tensorflow_version 1.x\n",
        "import tensorflow as tf\n",
        "print(tf.__version__)"
      ],
      "execution_count": 0,
      "outputs": [
        {
          "output_type": "stream",
          "text": [
            "1.15.0\n"
          ],
          "name": "stdout"
        }
      ]
    },
    {
      "cell_type": "markdown",
      "metadata": {
        "id": "_tatkCDnBqCH",
        "colab_type": "text"
      },
      "source": [
        "## Set up SinGAN\n",
        "Let’s install the SinGAN repo and install all the dependencies needed"
      ]
    },
    {
      "cell_type": "code",
      "metadata": {
        "id": "vx1w_rUCAUNB",
        "colab_type": "code",
        "outputId": "9494bac1-5e1c-4ea6-8624-57a67c7d0f98",
        "colab": {
          "base_uri": "https://localhost:8080/",
          "height": 496
        }
      },
      "source": [
        "!git clone https://github.com/dvschultz/SinGAN\n",
        "!python -m pip install -r /content/SinGAN/requirements.txt"
      ],
      "execution_count": 0,
      "outputs": [
        {
          "output_type": "stream",
          "text": [
            "Cloning into 'SinGAN'...\n",
            "remote: Enumerating objects: 34, done.\u001b[K\n",
            "remote: Counting objects: 100% (34/34), done.\u001b[K\n",
            "remote: Compressing objects: 100% (31/31), done.\u001b[K\n",
            "remote: Total 801 (delta 20), reused 7 (delta 3), pack-reused 767\u001b[K\n",
            "Receiving objects: 100% (801/801), 94.89 MiB | 30.94 MiB/s, done.\n",
            "Resolving deltas: 100% (309/309), done.\n",
            "Requirement already satisfied: matplotlib in /usr/local/lib/python3.6/dist-packages (from -r /content/SinGAN/requirements.txt (line 1)) (3.1.2)\n",
            "Requirement already satisfied: scikit-image in /usr/local/lib/python3.6/dist-packages (from -r /content/SinGAN/requirements.txt (line 2)) (0.15.0)\n",
            "Requirement already satisfied: scikit-learn in /usr/local/lib/python3.6/dist-packages (from -r /content/SinGAN/requirements.txt (line 3)) (0.21.3)\n",
            "Requirement already satisfied: scipy in /usr/local/lib/python3.6/dist-packages (from -r /content/SinGAN/requirements.txt (line 4)) (1.3.3)\n",
            "Requirement already satisfied: numpy in /usr/local/lib/python3.6/dist-packages (from -r /content/SinGAN/requirements.txt (line 5)) (1.17.4)\n",
            "Requirement already satisfied: torch in /usr/local/lib/python3.6/dist-packages (from -r /content/SinGAN/requirements.txt (line 6)) (1.3.1)\n",
            "Requirement already satisfied: torchvision in /usr/local/lib/python3.6/dist-packages (from -r /content/SinGAN/requirements.txt (line 7)) (0.4.2)\n",
            "Requirement already satisfied: cycler>=0.10 in /usr/local/lib/python3.6/dist-packages (from matplotlib->-r /content/SinGAN/requirements.txt (line 1)) (0.10.0)\n",
            "Requirement already satisfied: kiwisolver>=1.0.1 in /usr/local/lib/python3.6/dist-packages (from matplotlib->-r /content/SinGAN/requirements.txt (line 1)) (1.1.0)\n",
            "Requirement already satisfied: pyparsing!=2.0.4,!=2.1.2,!=2.1.6,>=2.0.1 in /usr/local/lib/python3.6/dist-packages (from matplotlib->-r /content/SinGAN/requirements.txt (line 1)) (2.4.5)\n",
            "Requirement already satisfied: python-dateutil>=2.1 in /usr/local/lib/python3.6/dist-packages (from matplotlib->-r /content/SinGAN/requirements.txt (line 1)) (2.6.1)\n",
            "Requirement already satisfied: pillow>=4.3.0 in /usr/local/lib/python3.6/dist-packages (from scikit-image->-r /content/SinGAN/requirements.txt (line 2)) (4.3.0)\n",
            "Requirement already satisfied: networkx>=2.0 in /usr/local/lib/python3.6/dist-packages (from scikit-image->-r /content/SinGAN/requirements.txt (line 2)) (2.4)\n",
            "Requirement already satisfied: imageio>=2.0.1 in /usr/local/lib/python3.6/dist-packages (from scikit-image->-r /content/SinGAN/requirements.txt (line 2)) (2.4.1)\n",
            "Requirement already satisfied: PyWavelets>=0.4.0 in /usr/local/lib/python3.6/dist-packages (from scikit-image->-r /content/SinGAN/requirements.txt (line 2)) (1.1.1)\n",
            "Requirement already satisfied: joblib>=0.11 in /usr/local/lib/python3.6/dist-packages (from scikit-learn->-r /content/SinGAN/requirements.txt (line 3)) (0.14.1)\n",
            "Requirement already satisfied: six in /usr/local/lib/python3.6/dist-packages (from torchvision->-r /content/SinGAN/requirements.txt (line 7)) (1.12.0)\n",
            "Requirement already satisfied: setuptools in /usr/local/lib/python3.6/dist-packages (from kiwisolver>=1.0.1->matplotlib->-r /content/SinGAN/requirements.txt (line 1)) (42.0.2)\n",
            "Requirement already satisfied: olefile in /usr/local/lib/python3.6/dist-packages (from pillow>=4.3.0->scikit-image->-r /content/SinGAN/requirements.txt (line 2)) (0.46)\n",
            "Requirement already satisfied: decorator>=4.3.0 in /usr/local/lib/python3.6/dist-packages (from networkx>=2.0->scikit-image->-r /content/SinGAN/requirements.txt (line 2)) (4.4.1)\n"
          ],
          "name": "stdout"
        }
      ]
    },
    {
      "cell_type": "code",
      "metadata": {
        "id": "kN9Adp7IAqcU",
        "colab_type": "code",
        "outputId": "4f94a1dc-150a-4668-e5d4-10cc61206269",
        "colab": {
          "base_uri": "https://localhost:8080/",
          "height": 34
        }
      },
      "source": [
        "cd /content/SinGAN/"
      ],
      "execution_count": 0,
      "outputs": [
        {
          "output_type": "stream",
          "text": [
            "/content/SinGAN\n"
          ],
          "name": "stdout"
        }
      ]
    },
    {
      "cell_type": "markdown",
      "metadata": {
        "id": "JzHCfXOWCxds",
        "colab_type": "text"
      },
      "source": [
        "We now have SinGAN installed on CoLab. Here are some relevant links to understand how to use the library:\n",
        "\n",
        "*   [SinGAN Github repo](https://github.com/tamarott/SinGAN)\n",
        "*   [ArXiv paper](https://arxiv.org/pdf/1905.01164.pdf)\n",
        "* [Supplementary Materials paper](https://tomer.net.technion.ac.il/files/2019/09/SingleImageGan_SM.pdf)\n",
        "\n",
        "\n",
        "\n"
      ]
    },
    {
      "cell_type": "markdown",
      "metadata": {
        "id": "qMvS1d2mDxqA",
        "colab_type": "text"
      },
      "source": [
        "##Training your image\n",
        "In order to use SinGAN, we need to train the model on our image. In my experience this usually takes an hour or so to train a 250px image.\n",
        "\n",
        "The `main_train.py` script takes one required argument, `--input_name`. To use with a custom image, upload an image to the `Input/Images` folder and then pass its name and file extension to the argument. "
      ]
    },
    {
      "cell_type": "code",
      "metadata": {
        "id": "doXwNrKBD4V8",
        "colab_type": "code",
        "outputId": "eecc1821-5c89-4841-a417-37dc978d25b4",
        "colab": {
          "base_uri": "https://localhost:8080/",
          "height": 1000
        }
      },
      "source": [
        "!python main_train.py --input_name colusseum.png --max_size 128 --num_samples 21"
      ],
      "execution_count": 0,
      "outputs": [
        {
          "output_type": "stream",
          "text": [
            "Random Seed:  3830\n",
            "GeneratorConcatSkip2CleanAdd(\n",
            "  (head): ConvBlock(\n",
            "    (conv): Conv2d(3, 32, kernel_size=(3, 3), stride=(1, 1))\n",
            "    (norm): BatchNorm2d(32, eps=1e-05, momentum=0.1, affine=True, track_running_stats=True)\n",
            "    (LeakyRelu): LeakyReLU(negative_slope=0.2, inplace=True)\n",
            "  )\n",
            "  (body): Sequential(\n",
            "    (block1): ConvBlock(\n",
            "      (conv): Conv2d(32, 32, kernel_size=(3, 3), stride=(1, 1))\n",
            "      (norm): BatchNorm2d(32, eps=1e-05, momentum=0.1, affine=True, track_running_stats=True)\n",
            "      (LeakyRelu): LeakyReLU(negative_slope=0.2, inplace=True)\n",
            "    )\n",
            "    (block2): ConvBlock(\n",
            "      (conv): Conv2d(32, 32, kernel_size=(3, 3), stride=(1, 1))\n",
            "      (norm): BatchNorm2d(32, eps=1e-05, momentum=0.1, affine=True, track_running_stats=True)\n",
            "      (LeakyRelu): LeakyReLU(negative_slope=0.2, inplace=True)\n",
            "    )\n",
            "    (block3): ConvBlock(\n",
            "      (conv): Conv2d(32, 32, kernel_size=(3, 3), stride=(1, 1))\n",
            "      (norm): BatchNorm2d(32, eps=1e-05, momentum=0.1, affine=True, track_running_stats=True)\n",
            "      (LeakyRelu): LeakyReLU(negative_slope=0.2, inplace=True)\n",
            "    )\n",
            "  )\n",
            "  (tail): Sequential(\n",
            "    (0): Conv2d(32, 3, kernel_size=(3, 3), stride=(1, 1))\n",
            "    (1): Tanh()\n",
            "  )\n",
            ")\n",
            "WDiscriminator(\n",
            "  (head): ConvBlock(\n",
            "    (conv): Conv2d(3, 32, kernel_size=(3, 3), stride=(1, 1))\n",
            "    (norm): BatchNorm2d(32, eps=1e-05, momentum=0.1, affine=True, track_running_stats=True)\n",
            "    (LeakyRelu): LeakyReLU(negative_slope=0.2, inplace=True)\n",
            "  )\n",
            "  (body): Sequential(\n",
            "    (block1): ConvBlock(\n",
            "      (conv): Conv2d(32, 32, kernel_size=(3, 3), stride=(1, 1))\n",
            "      (norm): BatchNorm2d(32, eps=1e-05, momentum=0.1, affine=True, track_running_stats=True)\n",
            "      (LeakyRelu): LeakyReLU(negative_slope=0.2, inplace=True)\n",
            "    )\n",
            "    (block2): ConvBlock(\n",
            "      (conv): Conv2d(32, 32, kernel_size=(3, 3), stride=(1, 1))\n",
            "      (norm): BatchNorm2d(32, eps=1e-05, momentum=0.1, affine=True, track_running_stats=True)\n",
            "      (LeakyRelu): LeakyReLU(negative_slope=0.2, inplace=True)\n",
            "    )\n",
            "    (block3): ConvBlock(\n",
            "      (conv): Conv2d(32, 32, kernel_size=(3, 3), stride=(1, 1))\n",
            "      (norm): BatchNorm2d(32, eps=1e-05, momentum=0.1, affine=True, track_running_stats=True)\n",
            "      (LeakyRelu): LeakyReLU(negative_slope=0.2, inplace=True)\n",
            "    )\n",
            "  )\n",
            "  (tail): Conv2d(32, 1, kernel_size=(3, 3), stride=(1, 1))\n",
            ")\n",
            "scale 0:[0/2000]\n",
            "scale 0:[25/2000]\n",
            "scale 0:[50/2000]\n",
            "scale 0:[75/2000]\n",
            "scale 0:[100/2000]\n",
            "scale 0:[125/2000]\n",
            "scale 0:[150/2000]\n",
            "scale 0:[175/2000]\n",
            "scale 0:[200/2000]\n",
            "scale 0:[225/2000]\n",
            "scale 0:[250/2000]\n",
            "scale 0:[275/2000]\n",
            "scale 0:[300/2000]\n",
            "scale 0:[325/2000]\n",
            "scale 0:[350/2000]\n",
            "scale 0:[375/2000]\n",
            "scale 0:[400/2000]\n",
            "scale 0:[425/2000]\n",
            "scale 0:[450/2000]\n",
            "scale 0:[475/2000]\n",
            "scale 0:[500/2000]\n",
            "scale 0:[525/2000]\n",
            "scale 0:[550/2000]\n",
            "scale 0:[575/2000]\n",
            "scale 0:[600/2000]\n",
            "scale 0:[625/2000]\n",
            "scale 0:[650/2000]\n",
            "scale 0:[675/2000]\n",
            "scale 0:[700/2000]\n",
            "scale 0:[725/2000]\n",
            "scale 0:[750/2000]\n",
            "scale 0:[775/2000]\n",
            "scale 0:[800/2000]\n",
            "scale 0:[825/2000]\n",
            "scale 0:[850/2000]\n",
            "scale 0:[875/2000]\n",
            "scale 0:[900/2000]\n",
            "scale 0:[925/2000]\n",
            "scale 0:[950/2000]\n",
            "scale 0:[975/2000]\n",
            "scale 0:[1000/2000]\n",
            "scale 0:[1025/2000]\n",
            "scale 0:[1050/2000]\n",
            "scale 0:[1075/2000]\n",
            "scale 0:[1100/2000]\n",
            "scale 0:[1125/2000]\n",
            "scale 0:[1150/2000]\n",
            "scale 0:[1175/2000]\n",
            "scale 0:[1200/2000]\n",
            "scale 0:[1225/2000]\n",
            "scale 0:[1250/2000]\n",
            "scale 0:[1275/2000]\n",
            "scale 0:[1300/2000]\n",
            "scale 0:[1325/2000]\n",
            "scale 0:[1350/2000]\n",
            "scale 0:[1375/2000]\n",
            "scale 0:[1400/2000]\n",
            "scale 0:[1425/2000]\n",
            "scale 0:[1450/2000]\n",
            "scale 0:[1475/2000]\n",
            "scale 0:[1500/2000]\n",
            "scale 0:[1525/2000]\n",
            "scale 0:[1550/2000]\n",
            "scale 0:[1575/2000]\n",
            "scale 0:[1600/2000]\n",
            "scale 0:[1625/2000]\n",
            "scale 0:[1650/2000]\n",
            "scale 0:[1675/2000]\n",
            "scale 0:[1700/2000]\n",
            "scale 0:[1725/2000]\n",
            "scale 0:[1750/2000]\n",
            "scale 0:[1775/2000]\n",
            "scale 0:[1800/2000]\n",
            "scale 0:[1825/2000]\n",
            "scale 0:[1850/2000]\n",
            "scale 0:[1875/2000]\n",
            "scale 0:[1900/2000]\n",
            "scale 0:[1925/2000]\n",
            "scale 0:[1950/2000]\n",
            "scale 0:[1975/2000]\n",
            "scale 0:[1999/2000]\n",
            "/usr/local/lib/python3.6/dist-packages/torch/serialization.py:292: UserWarning: Couldn't retrieve source code for container of type GeneratorConcatSkip2CleanAdd. It won't be checked for correctness upon loading.\n",
            "  \"type \" + obj.__name__ + \". It won't be checked \"\n",
            "/usr/local/lib/python3.6/dist-packages/torch/serialization.py:292: UserWarning: Couldn't retrieve source code for container of type ConvBlock. It won't be checked for correctness upon loading.\n",
            "  \"type \" + obj.__name__ + \". It won't be checked \"\n",
            "/usr/local/lib/python3.6/dist-packages/torch/serialization.py:292: UserWarning: Couldn't retrieve source code for container of type Conv2d. It won't be checked for correctness upon loading.\n",
            "  \"type \" + obj.__name__ + \". It won't be checked \"\n",
            "/usr/local/lib/python3.6/dist-packages/torch/serialization.py:292: UserWarning: Couldn't retrieve source code for container of type BatchNorm2d. It won't be checked for correctness upon loading.\n",
            "  \"type \" + obj.__name__ + \". It won't be checked \"\n",
            "/usr/local/lib/python3.6/dist-packages/torch/serialization.py:292: UserWarning: Couldn't retrieve source code for container of type LeakyReLU. It won't be checked for correctness upon loading.\n",
            "  \"type \" + obj.__name__ + \". It won't be checked \"\n",
            "/usr/local/lib/python3.6/dist-packages/torch/serialization.py:292: UserWarning: Couldn't retrieve source code for container of type Sequential. It won't be checked for correctness upon loading.\n",
            "  \"type \" + obj.__name__ + \". It won't be checked \"\n",
            "/usr/local/lib/python3.6/dist-packages/torch/serialization.py:292: UserWarning: Couldn't retrieve source code for container of type Tanh. It won't be checked for correctness upon loading.\n",
            "  \"type \" + obj.__name__ + \". It won't be checked \"\n",
            "GeneratorConcatSkip2CleanAdd(\n",
            "  (head): ConvBlock(\n",
            "    (conv): Conv2d(3, 32, kernel_size=(3, 3), stride=(1, 1))\n",
            "    (norm): BatchNorm2d(32, eps=1e-05, momentum=0.1, affine=True, track_running_stats=True)\n",
            "    (LeakyRelu): LeakyReLU(negative_slope=0.2, inplace=True)\n",
            "  )\n",
            "  (body): Sequential(\n",
            "    (block1): ConvBlock(\n",
            "      (conv): Conv2d(32, 32, kernel_size=(3, 3), stride=(1, 1))\n",
            "      (norm): BatchNorm2d(32, eps=1e-05, momentum=0.1, affine=True, track_running_stats=True)\n",
            "      (LeakyRelu): LeakyReLU(negative_slope=0.2, inplace=True)\n",
            "    )\n",
            "    (block2): ConvBlock(\n",
            "      (conv): Conv2d(32, 32, kernel_size=(3, 3), stride=(1, 1))\n",
            "      (norm): BatchNorm2d(32, eps=1e-05, momentum=0.1, affine=True, track_running_stats=True)\n",
            "      (LeakyRelu): LeakyReLU(negative_slope=0.2, inplace=True)\n",
            "    )\n",
            "    (block3): ConvBlock(\n",
            "      (conv): Conv2d(32, 32, kernel_size=(3, 3), stride=(1, 1))\n",
            "      (norm): BatchNorm2d(32, eps=1e-05, momentum=0.1, affine=True, track_running_stats=True)\n",
            "      (LeakyRelu): LeakyReLU(negative_slope=0.2, inplace=True)\n",
            "    )\n",
            "  )\n",
            "  (tail): Sequential(\n",
            "    (0): Conv2d(32, 3, kernel_size=(3, 3), stride=(1, 1))\n",
            "    (1): Tanh()\n",
            "  )\n",
            ")\n",
            "WDiscriminator(\n",
            "  (head): ConvBlock(\n",
            "    (conv): Conv2d(3, 32, kernel_size=(3, 3), stride=(1, 1))\n",
            "    (norm): BatchNorm2d(32, eps=1e-05, momentum=0.1, affine=True, track_running_stats=True)\n",
            "    (LeakyRelu): LeakyReLU(negative_slope=0.2, inplace=True)\n",
            "  )\n",
            "  (body): Sequential(\n",
            "    (block1): ConvBlock(\n",
            "      (conv): Conv2d(32, 32, kernel_size=(3, 3), stride=(1, 1))\n",
            "      (norm): BatchNorm2d(32, eps=1e-05, momentum=0.1, affine=True, track_running_stats=True)\n",
            "      (LeakyRelu): LeakyReLU(negative_slope=0.2, inplace=True)\n",
            "    )\n",
            "    (block2): ConvBlock(\n",
            "      (conv): Conv2d(32, 32, kernel_size=(3, 3), stride=(1, 1))\n",
            "      (norm): BatchNorm2d(32, eps=1e-05, momentum=0.1, affine=True, track_running_stats=True)\n",
            "      (LeakyRelu): LeakyReLU(negative_slope=0.2, inplace=True)\n",
            "    )\n",
            "    (block3): ConvBlock(\n",
            "      (conv): Conv2d(32, 32, kernel_size=(3, 3), stride=(1, 1))\n",
            "      (norm): BatchNorm2d(32, eps=1e-05, momentum=0.1, affine=True, track_running_stats=True)\n",
            "      (LeakyRelu): LeakyReLU(negative_slope=0.2, inplace=True)\n",
            "    )\n",
            "  )\n",
            "  (tail): Conv2d(32, 1, kernel_size=(3, 3), stride=(1, 1))\n",
            ")\n",
            "scale 1:[0/2000]\n",
            "scale 1:[25/2000]\n",
            "scale 1:[50/2000]\n",
            "scale 1:[75/2000]\n",
            "scale 1:[100/2000]\n",
            "scale 1:[125/2000]\n",
            "scale 1:[150/2000]\n",
            "scale 1:[175/2000]\n",
            "scale 1:[200/2000]\n",
            "scale 1:[225/2000]\n",
            "scale 1:[250/2000]\n",
            "scale 1:[275/2000]\n",
            "scale 1:[300/2000]\n",
            "scale 1:[325/2000]\n",
            "scale 1:[350/2000]\n",
            "scale 1:[375/2000]\n",
            "scale 1:[400/2000]\n",
            "scale 1:[425/2000]\n",
            "scale 1:[450/2000]\n",
            "scale 1:[475/2000]\n",
            "scale 1:[500/2000]\n",
            "scale 1:[525/2000]\n",
            "scale 1:[550/2000]\n",
            "scale 1:[575/2000]\n",
            "scale 1:[600/2000]\n",
            "scale 1:[625/2000]\n",
            "scale 1:[650/2000]\n",
            "scale 1:[675/2000]\n",
            "scale 1:[700/2000]\n",
            "scale 1:[725/2000]\n",
            "scale 1:[750/2000]\n",
            "scale 1:[775/2000]\n",
            "scale 1:[800/2000]\n",
            "scale 1:[825/2000]\n",
            "scale 1:[850/2000]\n",
            "scale 1:[875/2000]\n",
            "scale 1:[900/2000]\n",
            "scale 1:[925/2000]\n",
            "scale 1:[950/2000]\n",
            "scale 1:[975/2000]\n",
            "scale 1:[1000/2000]\n",
            "scale 1:[1025/2000]\n",
            "scale 1:[1050/2000]\n",
            "scale 1:[1075/2000]\n",
            "scale 1:[1100/2000]\n",
            "scale 1:[1125/2000]\n",
            "scale 1:[1150/2000]\n",
            "scale 1:[1175/2000]\n",
            "scale 1:[1200/2000]\n",
            "scale 1:[1225/2000]\n",
            "scale 1:[1250/2000]\n",
            "scale 1:[1275/2000]\n",
            "scale 1:[1300/2000]\n",
            "scale 1:[1325/2000]\n",
            "scale 1:[1350/2000]\n",
            "scale 1:[1375/2000]\n",
            "scale 1:[1400/2000]\n",
            "scale 1:[1425/2000]\n",
            "scale 1:[1450/2000]\n",
            "scale 1:[1475/2000]\n",
            "scale 1:[1500/2000]\n",
            "scale 1:[1525/2000]\n",
            "scale 1:[1550/2000]\n",
            "scale 1:[1575/2000]\n",
            "scale 1:[1600/2000]\n",
            "scale 1:[1625/2000]\n",
            "scale 1:[1650/2000]\n",
            "scale 1:[1675/2000]\n",
            "scale 1:[1700/2000]\n",
            "scale 1:[1725/2000]\n",
            "scale 1:[1750/2000]\n",
            "scale 1:[1775/2000]\n",
            "scale 1:[1800/2000]\n",
            "scale 1:[1825/2000]\n",
            "scale 1:[1850/2000]\n",
            "scale 1:[1875/2000]\n",
            "scale 1:[1900/2000]\n",
            "scale 1:[1925/2000]\n",
            "scale 1:[1950/2000]\n",
            "scale 1:[1975/2000]\n",
            "scale 1:[1999/2000]\n"
          ],
          "name": "stdout"
        }
      ]
    },
    {
      "cell_type": "markdown",
      "metadata": {
        "id": "7ISneFwF9Lfd",
        "colab_type": "text"
      },
      "source": [
        "##Generating Random Samples\n",
        "By default, once training is completed 50 samples are generated. That means you don’t need to run the next line of code, unless you want to change some of the default options. \n",
        "\n",
        "Note: If you do run the next line of code, you’ll need to delete the folder of output images that were created during training. Otherwise you will get an error.\n",
        "\n",
        "###Sample Options\n",
        "\n",
        "####Number of Images\n",
        "`--num_samples` (note: this only works in my version of the library)\n",
        "\n",
        "You can pass in a number to generate any number of images. By default it generates 50. I recommend using this when running the `main_train.py` script otherwise you’ll need to delete the output folder and re-run it.\n",
        "\n",
        "####Generator scale\n",
        "`--gen_start_scale` (pass is a number, usually between 0–3)\n",
        "\n",
        "I don’t want to dig into this too deeply, so I’ll just say the generator scale relates to how \"realistic\" the new images look. If you use `0` you will get images that differ drastically from your original image. If you use `2` or `3` the differences will be very subtle. Anything above these numbers will give you almost no changes.\n",
        "\n",
        "####Mode\n",
        "`--mode`\n",
        "There are two. While the default `random_samples` generates images of the same size as your training image, `random_samples_arbitrary_sizes` changes the size of your canvas. It’s not a scaled up image, hoever, its more like it makes the canvas larger and tries to fill the space added with a similar texture.\n",
        "\n",
        "####Scale of canvas\n",
        "`--scale_h` (pass it a floating number)\n",
        "`--scale_v` \n",
        "\n",
        "For use with `random_samples_arbitrary_sizes`, this allows you to define how much larger (or smaller) the canvas should be. you should pass it a floating value that scales each dimension up or down (`1.0` is the same size, `2.0` is twice as large, etc)."
      ]
    },
    {
      "cell_type": "code",
      "metadata": {
        "id": "V9GXUNGUGnDk",
        "colab_type": "code",
        "outputId": "a3efcd0c-10de-4d2a-8bf8-b2fd0880c9d2",
        "colab": {
          "base_uri": "https://localhost:8080/",
          "height": 34
        }
      },
      "source": [
        "# example using the default random_samples mode\n",
        "!python random_samples.py --input_name colusseum.png --mode random_samples --gen_start_scale 0 --num_samples 400 --max_size 720"
      ],
      "execution_count": 0,
      "outputs": [
        {
          "output_type": "stream",
          "text": [
            "Random Seed:  3489\n"
          ],
          "name": "stdout"
        }
      ]
    },
    {
      "cell_type": "code",
      "metadata": {
        "colab_type": "code",
        "outputId": "f8efcd28-8bc4-4b83-cb20-d0cbfb491423",
        "id": "aERY946FXxcj",
        "colab": {
          "base_uri": "https://localhost:8080/",
          "height": 34
        }
      },
      "source": [
        "# example using the random_samples_arbitrary_sizes mode\n",
        "!python random_samples.py --input_name colusseum.png --mode random_samples_arbitrary_sizes --scale_h 2.0 --scale_v 1.0 --gen_start_scale 0 --num_samples 50"
      ],
      "execution_count": 0,
      "outputs": [
        {
          "output_type": "stream",
          "text": [
            "Random Seed:  4198\n"
          ],
          "name": "stdout"
        }
      ]
    },
    {
      "cell_type": "markdown",
      "metadata": {
        "id": "qFTvgNUigrE-",
        "colab_type": "text"
      },
      "source": [
        "###Generating Animations\n",
        "SinGAN can generate an animation from the single image. It essentially create a noisy peturbation on the image causing it to animate.\n",
        "\n",
        "Unfortunately, this requires another training session on the image. It should take the same amount of time as your previous training.\n",
        "\n",
        "`--min_size` and `--max_size` can be used here as well."
      ]
    },
    {
      "cell_type": "code",
      "metadata": {
        "id": "CXHv8U14ZZ3q",
        "colab_type": "code",
        "outputId": "f50106ba-2a73-4e0a-db32-4b6d4666395c",
        "colab": {
          "base_uri": "https://localhost:8080/",
          "height": 258
        }
      },
      "source": [
        "!python animation.py --input_name colusseum.png --max_size 32"
      ],
      "execution_count": 0,
      "outputs": [
        {
          "output_type": "stream",
          "text": [
            "Random Seed:  1816\n",
            "WARNING:root:IMAGEIO FFMPEG_WRITER WARNING: input image is not divisible by macro_block_size=16, resizing from (25, 32) to (32, 32) to ensure video compatibility with most codecs and players. To prevent resizing, make your input image divisible by the macro_block_size or set the macro_block_size to None (risking incompatibility). You may also see a FFMPEG warning concerning speedloss due to data not being aligned.\n",
            "WARNING:root:IMAGEIO FFMPEG_WRITER WARNING: input image is not divisible by macro_block_size=16, resizing from (25, 32) to (32, 32) to ensure video compatibility with most codecs and players. To prevent resizing, make your input image divisible by the macro_block_size or set the macro_block_size to None (risking incompatibility). You may also see a FFMPEG warning concerning speedloss due to data not being aligned.\n",
            "WARNING:root:IMAGEIO FFMPEG_WRITER WARNING: input image is not divisible by macro_block_size=16, resizing from (25, 32) to (32, 32) to ensure video compatibility with most codecs and players. To prevent resizing, make your input image divisible by the macro_block_size or set the macro_block_size to None (risking incompatibility). You may also see a FFMPEG warning concerning speedloss due to data not being aligned.\n",
            "WARNING:root:IMAGEIO FFMPEG_WRITER WARNING: input image is not divisible by macro_block_size=16, resizing from (25, 32) to (32, 32) to ensure video compatibility with most codecs and players. To prevent resizing, make your input image divisible by the macro_block_size or set the macro_block_size to None (risking incompatibility). You may also see a FFMPEG warning concerning speedloss due to data not being aligned.\n",
            "WARNING:root:IMAGEIO FFMPEG_WRITER WARNING: input image is not divisible by macro_block_size=16, resizing from (25, 32) to (32, 32) to ensure video compatibility with most codecs and players. To prevent resizing, make your input image divisible by the macro_block_size or set the macro_block_size to None (risking incompatibility). You may also see a FFMPEG warning concerning speedloss due to data not being aligned.\n",
            "WARNING:root:IMAGEIO FFMPEG_WRITER WARNING: input image is not divisible by macro_block_size=16, resizing from (25, 32) to (32, 32) to ensure video compatibility with most codecs and players. To prevent resizing, make your input image divisible by the macro_block_size or set the macro_block_size to None (risking incompatibility). You may also see a FFMPEG warning concerning speedloss due to data not being aligned.\n",
            "WARNING:root:IMAGEIO FFMPEG_WRITER WARNING: input image is not divisible by macro_block_size=16, resizing from (25, 32) to (32, 32) to ensure video compatibility with most codecs and players. To prevent resizing, make your input image divisible by the macro_block_size or set the macro_block_size to None (risking incompatibility). You may also see a FFMPEG warning concerning speedloss due to data not being aligned.\n",
            "WARNING:root:IMAGEIO FFMPEG_WRITER WARNING: input image is not divisible by macro_block_size=16, resizing from (25, 32) to (32, 32) to ensure video compatibility with most codecs and players. To prevent resizing, make your input image divisible by the macro_block_size or set the macro_block_size to None (risking incompatibility). You may also see a FFMPEG warning concerning speedloss due to data not being aligned.\n",
            "WARNING:root:IMAGEIO FFMPEG_WRITER WARNING: input image is not divisible by macro_block_size=16, resizing from (25, 32) to (32, 32) to ensure video compatibility with most codecs and players. To prevent resizing, make your input image divisible by the macro_block_size or set the macro_block_size to None (risking incompatibility). You may also see a FFMPEG warning concerning speedloss due to data not being aligned.\n",
            "WARNING:root:IMAGEIO FFMPEG_WRITER WARNING: input image is not divisible by macro_block_size=16, resizing from (25, 32) to (32, 32) to ensure video compatibility with most codecs and players. To prevent resizing, make your input image divisible by the macro_block_size or set the macro_block_size to None (risking incompatibility). You may also see a FFMPEG warning concerning speedloss due to data not being aligned.\n",
            "WARNING:root:IMAGEIO FFMPEG_WRITER WARNING: input image is not divisible by macro_block_size=16, resizing from (25, 32) to (32, 32) to ensure video compatibility with most codecs and players. To prevent resizing, make your input image divisible by the macro_block_size or set the macro_block_size to None (risking incompatibility). You may also see a FFMPEG warning concerning speedloss due to data not being aligned.\n",
            "WARNING:root:IMAGEIO FFMPEG_WRITER WARNING: input image is not divisible by macro_block_size=16, resizing from (25, 32) to (32, 32) to ensure video compatibility with most codecs and players. To prevent resizing, make your input image divisible by the macro_block_size or set the macro_block_size to None (risking incompatibility). You may also see a FFMPEG warning concerning speedloss due to data not being aligned.\n"
          ],
          "name": "stdout"
        }
      ]
    },
    {
      "cell_type": "code",
      "metadata": {
        "id": "8DbHSu2YirYW",
        "colab_type": "code",
        "outputId": "02b4defc-b420-4b40-dee6-4cdd81ff3fd7",
        "colab": {
          "base_uri": "https://localhost:8080/",
          "height": 204
        }
      },
      "source": [
        "!git pull"
      ],
      "execution_count": 0,
      "outputs": [
        {
          "output_type": "stream",
          "text": [
            "remote: Enumerating objects: 7, done.\u001b[K\n",
            "remote: Counting objects:  14% (1/7)\u001b[K\rremote: Counting objects:  28% (2/7)\u001b[K\rremote: Counting objects:  42% (3/7)\u001b[K\rremote: Counting objects:  57% (4/7)\u001b[K\rremote: Counting objects:  71% (5/7)\u001b[K\rremote: Counting objects:  85% (6/7)\u001b[K\rremote: Counting objects: 100% (7/7)\u001b[K\rremote: Counting objects: 100% (7/7), done.\u001b[K\n",
            "remote: Compressing objects: 100% (1/1)\u001b[K\rremote: Compressing objects: 100% (1/1), done.\u001b[K\n",
            "remote: Total 4 (delta 3), reused 4 (delta 3), pack-reused 0\u001b[K\n",
            "Unpacking objects:  25% (1/4)   \rUnpacking objects:  50% (2/4)   \rUnpacking objects:  75% (3/4)   \rUnpacking objects: 100% (4/4)   \rUnpacking objects: 100% (4/4), done.\n",
            "From https://github.com/dvschultz/SinGAN\n",
            "   53c92b4..e43f65c  master     -> origin/master\n",
            "Updating 53c92b4..e43f65c\n",
            "Fast-forward\n",
            " SinGAN/manipulate.py | 2 \u001b[32m+\u001b[m\u001b[31m-\u001b[m\n",
            " 1 file changed, 1 insertion(+), 1 deletion(-)\n"
          ],
          "name": "stdout"
        }
      ]
    },
    {
      "cell_type": "code",
      "metadata": {
        "id": "nBJWAOl7k5WA",
        "colab_type": "code",
        "colab": {}
      },
      "source": [
        "rm -r /content/SinGAN/TrainedModels/colusseum"
      ],
      "execution_count": 0,
      "outputs": []
    },
    {
      "cell_type": "code",
      "metadata": {
        "id": "eVS472ipPkVQ",
        "colab_type": "code",
        "colab": {}
      },
      "source": [
        "rm -r /content/SinGAN/Output/Animation/colusseum"
      ],
      "execution_count": 0,
      "outputs": []
    },
    {
      "cell_type": "code",
      "metadata": {
        "id": "BNtL1p3TP-vm",
        "colab_type": "code",
        "colab": {}
      },
      "source": [
        ""
      ],
      "execution_count": 0,
      "outputs": []
    }
  ]
}