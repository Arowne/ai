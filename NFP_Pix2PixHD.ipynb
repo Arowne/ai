{
  "nbformat": 4,
  "nbformat_minor": 0,
  "metadata": {
    "colab": {
      "name": "NFP-Pix2PixHD.ipynb",
      "provenance": [],
      "toc_visible": true,
      "machine_shape": "hm",
      "include_colab_link": true
    },
    "kernelspec": {
      "name": "python3",
      "display_name": "Python 3"
    },
    "accelerator": "GPU"
  },
  "cells": [
    {
      "cell_type": "markdown",
      "metadata": {
        "id": "view-in-github",
        "colab_type": "text"
      },
      "source": [
        "<a href=\"https://colab.research.google.com/github/dvschultz/ai/blob/master/NFP_Pix2PixHD.ipynb\" target=\"_parent\"><img src=\"https://colab.research.google.com/assets/colab-badge.svg\" alt=\"Open In Colab\"/></a>"
      ]
    },
    {
      "cell_type": "markdown",
      "metadata": {
        "id": "VXoBaXRDKuMV",
        "colab_type": "text"
      },
      "source": [
        "#Next Frame Prediction using Pix2PixHD\n",
        "\n",
        "By Derrick Schultz\n",
        "\n",
        "Forked repo and tutorial based on [JC Testud’s excellent repo and Medium](https://medium.com/@jctestud/video-generation-with-pix2pix-aed5b1b69f57) article."
      ]
    },
    {
      "cell_type": "code",
      "metadata": {
        "id": "K--AsrIzpH58",
        "colab_type": "code",
        "outputId": "d526624a-d4c0-45e5-fa46-01add5ea8281",
        "colab": {
          "base_uri": "https://localhost:8080/",
          "height": 122
        }
      },
      "source": [
        "from google.colab import drive\n",
        "drive.mount('/content/drive')"
      ],
      "execution_count": 2,
      "outputs": [
        {
          "output_type": "stream",
          "text": [
            "Go to this URL in a browser: https://accounts.google.com/o/oauth2/auth?client_id=947318989803-6bn6qk8qdgf4n4g3pfee6491hc0brc4i.apps.googleusercontent.com&redirect_uri=urn%3aietf%3awg%3aoauth%3a2.0%3aoob&response_type=code&scope=email%20https%3a%2f%2fwww.googleapis.com%2fauth%2fdocs.test%20https%3a%2f%2fwww.googleapis.com%2fauth%2fdrive%20https%3a%2f%2fwww.googleapis.com%2fauth%2fdrive.photos.readonly%20https%3a%2f%2fwww.googleapis.com%2fauth%2fpeopleapi.readonly\n",
            "\n",
            "Enter your authorization code:\n",
            "··········\n",
            "Mounted at /content/drive\n"
          ],
          "name": "stdout"
        }
      ]
    },
    {
      "cell_type": "markdown",
      "metadata": {
        "id": "cUvLbCJtLqaV",
        "colab_type": "text"
      },
      "source": [
        "### Install libraries and dependencies"
      ]
    },
    {
      "cell_type": "code",
      "metadata": {
        "id": "48p3GhYiLlyX",
        "colab_type": "code",
        "outputId": "786cf718-0ded-433c-dd78-f5d45af6f144",
        "colab": {
          "base_uri": "https://localhost:8080/",
          "height": 598
        }
      },
      "source": [
        "#install apex\n",
        "# !git clone https://github.com/NVIDIA/apex\n",
        "# %cd apex\n",
        "# !pip install -v --no-cache-dir --global-option=\"--cpp_ext\" --global-option=\"--cuda_ext\" \n",
        "# %cd ../"
      ],
      "execution_count": 0,
      "outputs": [
        {
          "output_type": "stream",
          "text": [
            "Cloning into 'apex'...\n",
            "remote: Enumerating objects: 251, done.\u001b[K\n",
            "remote: Counting objects: 100% (251/251), done.\u001b[K\n",
            "remote: Compressing objects: 100% (135/135), done.\u001b[K\n",
            "remote: Total 6086 (delta 177), reused 169 (delta 116), pack-reused 5835\u001b[K\n",
            "Receiving objects: 100% (6086/6086), 13.63 MiB | 16.01 MiB/s, done.\n",
            "Resolving deltas: 100% (3968/3968), done.\n",
            "/content/apex\n",
            "/usr/local/lib/python3.6/dist-packages/pip/_internal/commands/install.py:283: UserWarning: Disabling all use of wheels due to the use of --build-options / --global-options / --install-options.\n",
            "  cmdoptions.check_install_build_global(options)\n",
            "Created temporary directory: /tmp/pip-ephem-wheel-cache-yfe8sr2h\n",
            "Created temporary directory: /tmp/pip-req-tracker-vyqyfvhx\n",
            "Created requirements tracker '/tmp/pip-req-tracker-vyqyfvhx'\n",
            "Created temporary directory: /tmp/pip-install-pyaqgyqs\n",
            "Cleaning up...\n",
            "Removed build tracker '/tmp/pip-req-tracker-vyqyfvhx'\n",
            "\u001b[31mERROR: Directory './apex' is not installable. Neither 'setup.py' nor 'pyproject.toml' found.\u001b[0m\n",
            "Exception information:\n",
            "Traceback (most recent call last):\n",
            "  File \"/usr/local/lib/python3.6/dist-packages/pip/_internal/cli/base_command.py\", line 153, in _main\n",
            "    status = self.run(options, args)\n",
            "  File \"/usr/local/lib/python3.6/dist-packages/pip/_internal/commands/install.py\", line 362, in run\n",
            "    wheel_cache\n",
            "  File \"/usr/local/lib/python3.6/dist-packages/pip/_internal/cli/req_command.py\", line 238, in populate_requirement_set\n",
            "    wheel_cache=wheel_cache\n",
            "  File \"/usr/local/lib/python3.6/dist-packages/pip/_internal/req/constructors.py\", line 395, in install_req_from_line\n",
            "    parts = parse_req_from_line(name, line_source)\n",
            "  File \"/usr/local/lib/python3.6/dist-packages/pip/_internal/req/constructors.py\", line 324, in parse_req_from_line\n",
            "    url = _get_url_from_path(p, name)\n",
            "  File \"/usr/local/lib/python3.6/dist-packages/pip/_internal/req/constructors.py\", line 280, in _get_url_from_path\n",
            "    \"nor 'pyproject.toml' found.\" % name\n",
            "pip._internal.exceptions.InstallationError: Directory './apex' is not installable. Neither 'setup.py' nor 'pyproject.toml' found.\n",
            "/content\n"
          ],
          "name": "stdout"
        }
      ]
    },
    {
      "cell_type": "code",
      "metadata": {
        "id": "MQTeRFNMQ0PW",
        "colab_type": "code",
        "outputId": "849d04ad-4b3b-41a6-9977-23b43e8e83eb",
        "colab": {
          "base_uri": "https://localhost:8080/",
          "height": 343
        }
      },
      "source": [
        "# %cd ../\n",
        "# !pip install -v --no-cache-dir --global-option=\"--pyprof\" --global-option=\"--cpp_ext\" --global-option=\"--cuda_ext\" ./\n",
        "# !python setup.py install --cuda_ext --cpp_ext"
      ],
      "execution_count": 0,
      "outputs": [
        {
          "output_type": "stream",
          "text": [
            "torch.__version__  =  1.4.0\n",
            "setup.py:46: UserWarning: Option --pyprof not specified. Not installing PyProf dependencies!\n",
            "  warnings.warn(\"Option --pyprof not specified. Not installing PyProf dependencies!\")\n",
            "\n",
            "Compiling cuda extensions with\n",
            "nvcc: NVIDIA (R) Cuda compiler driver\n",
            "Copyright (c) 2005-2018 NVIDIA Corporation\n",
            "Built on Sat_Aug_25_21:08:01_CDT_2018\n",
            "Cuda compilation tools, release 10.0, V10.0.130\n",
            "from /usr/local/cuda/bin\n",
            "\n",
            "Traceback (most recent call last):\n",
            "  File \"setup.py\", line 106, in <module>\n",
            "    check_cuda_torch_binary_vs_bare_metal(torch.utils.cpp_extension.CUDA_HOME)\n",
            "  File \"setup.py\", line 80, in check_cuda_torch_binary_vs_bare_metal\n",
            "    \"https://github.com/NVIDIA/apex/pull/323#discussion_r287021798.  \"\n",
            "RuntimeError: Cuda extensions are being compiled with a version of Cuda that does not match the version used to compile Pytorch binaries.  Pytorch binaries were compiled with Cuda 10.1.\n",
            "In some cases, a minor-version mismatch will not cause later errors:  https://github.com/NVIDIA/apex/pull/323#discussion_r287021798.  You can try commenting out this check (at your own risk).\n"
          ],
          "name": "stdout"
        }
      ]
    },
    {
      "cell_type": "code",
      "metadata": {
        "id": "vLopOLVlJrSp",
        "colab_type": "code",
        "colab": {}
      },
      "source": [
        ""
      ],
      "execution_count": 0,
      "outputs": []
    },
    {
      "cell_type": "code",
      "metadata": {
        "id": "bQbRsmWdvjUo",
        "colab_type": "code",
        "outputId": "5c13ff37-6ebf-40b1-9371-5bb3fca428b8",
        "colab": {
          "base_uri": "https://localhost:8080/",
          "height": 34
        }
      },
      "source": [
        "%cd /content/drive/My\\ Drive\n",
        "!mkdir nfp-colab\n",
        "%cd nfp-colab\n",
        "!git clone -b video https://github.com/dvschultz/pix2pixHD.git\n",
        "!pip install dominate\n",
        "%cd pix2pixHD/"
      ],
      "execution_count": 0,
      "outputs": [
        {
          "output_type": "stream",
          "text": [
            "/content/drive/My Drive\n"
          ],
          "name": "stdout"
        }
      ]
    },
    {
      "cell_type": "code",
      "metadata": {
        "id": "9FK6bl7vSAw8",
        "colab_type": "code",
        "outputId": "c3cd2b30-e168-4d18-c52e-9d88d2d91d19",
        "colab": {
          "base_uri": "https://localhost:8080/",
          "height": 241
        }
      },
      "source": [
        "%cd /content/\n",
        "!git clone -b video https://github.com/dvschultz/pix2pixHD.git\n",
        "%cd pix2pixHD/\n",
        "!python extract_frames.py -video /content/glitch.mov -name glitch_dataset -p2pdir . -width 1280 -height 736"
      ],
      "execution_count": 0,
      "outputs": [
        {
          "output_type": "stream",
          "text": [
            "/content\n",
            "Cloning into 'pix2pixHD'...\n",
            "remote: Enumerating objects: 27, done.\u001b[K\n",
            "remote: Counting objects: 100% (27/27), done.\u001b[K\n",
            "remote: Compressing objects: 100% (23/23), done.\u001b[K\n",
            "remote: Total 437 (delta 11), reused 10 (delta 4), pack-reused 410\u001b[K\n",
            "Receiving objects: 100% (437/437), 55.72 MiB | 3.87 MiB/s, done.\n",
            "Resolving deltas: 100% (214/214), done.\n",
            "/content/pix2pixHD\n",
            "creating the dataset structure\n",
            "ffmpeg -v 16 -i /content/glitch.mov -q:v 2 -vf \"scale=iw*736/ih:736, crop=1280:736\" /content/pix2pixHD/datasets/glitch_dataset/train_frames/frame-%06d.jpg -hide_banner\n",
            "extracting the frames\n"
          ],
          "name": "stdout"
        }
      ]
    },
    {
      "cell_type": "code",
      "metadata": {
        "id": "V94ah70BxPUn",
        "colab_type": "code",
        "outputId": "cf6d1697-dfdb-43d8-d07d-ac668ed95672",
        "colab": {
          "base_uri": "https://localhost:8080/",
          "height": 139
        }
      },
      "source": [
        "%cd /content/drive/My\\ Drive/nfp-colab/pix2pixHD/\n",
        "!git pull\n",
        "!pip install dominate\n"
      ],
      "execution_count": 3,
      "outputs": [
        {
          "output_type": "stream",
          "text": [
            "/content/drive/My Drive/nfp-colab/pix2pixHD\n",
            "Already up to date.\n",
            "Collecting dominate\n",
            "  Downloading https://files.pythonhosted.org/packages/4f/e6/794a119963b7cfe4bd41177c8f9d4195fe901652f04189fbd2edf513c7b2/dominate-2.5.1-py2.py3-none-any.whl\n",
            "Installing collected packages: dominate\n",
            "Successfully installed dominate-2.5.1\n"
          ],
          "name": "stdout"
        }
      ]
    },
    {
      "cell_type": "code",
      "metadata": {
        "id": "fzHBGVnUKEzE",
        "colab_type": "code",
        "outputId": "8f279f20-70cf-4bdb-bc5a-2d225371665d",
        "colab": {
          "base_uri": "https://localhost:8080/",
          "height": 1000
        }
      },
      "source": [
        "!python train_video.py --name glitch_project --dataroot ./datasets/glitch_dataset/ --save_epoch_freq 1 --continue_train"
      ],
      "execution_count": 0,
      "outputs": [
        {
          "output_type": "stream",
          "text": [
            "------------ Options -------------\n",
            "batchSize: 1\n",
            "beta1: 0.5\n",
            "checkpoints_dir: ./checkpoints\n",
            "continue_train: True\n",
            "data_type: 32\n",
            "dataroot: ./datasets/glitch_dataset/\n",
            "debug: False\n",
            "display_freq: 100\n",
            "display_winsize: 512\n",
            "feat_num: 3\n",
            "fineSize: 512\n",
            "fp16: False\n",
            "fps: 24.0\n",
            "gpu_ids: [0]\n",
            "heat_seeking_lvl: 0\n",
            "input_nc: 3\n",
            "instance_feat: False\n",
            "isTrain: True\n",
            "label_feat: False\n",
            "label_nc: 35\n",
            "lambda_feat: 10.0\n",
            "loadSize: 1024\n",
            "load_features: False\n",
            "load_pretrain: \n",
            "local_rank: 0\n",
            "lr: 0.0002\n",
            "max_dataset_size: inf\n",
            "model: pix2pixHD\n",
            "nThreads: 2\n",
            "n_blocks_global: 9\n",
            "n_blocks_local: 3\n",
            "n_clusters: 10\n",
            "n_downsample_E: 4\n",
            "n_downsample_global: 4\n",
            "n_layers_D: 3\n",
            "n_local_enhancers: 1\n",
            "name: glitch_project\n",
            "ndf: 64\n",
            "nef: 16\n",
            "netG: global\n",
            "ngf: 64\n",
            "niter: 100\n",
            "niter_decay: 100\n",
            "niter_fix_global: 0\n",
            "no_flip: False\n",
            "no_ganFeat_loss: False\n",
            "no_html: False\n",
            "no_instance: False\n",
            "no_lsgan: False\n",
            "no_vgg_loss: False\n",
            "norm: instance\n",
            "num_D: 2\n",
            "output_nc: 3\n",
            "phase: train\n",
            "pool_size: 0\n",
            "print_freq: 100\n",
            "pstart: 1\n",
            "pstop: 1\n",
            "resize_or_crop: scale_width\n",
            "save_epoch_freq: 1\n",
            "save_latest_freq: 1000\n",
            "scheduled_sampling: False\n",
            "serial_batches: False\n",
            "ss_recursion_prob: 0.2\n",
            "start_from: video\n",
            "tf_log: False\n",
            "use_dropout: False\n",
            "verbose: False\n",
            "video_mode: False\n",
            "which_epoch: latest\n",
            "zoom_lvl: 0\n",
            "-------------- End ----------------\n",
            "Resuming from epoch 4 at iteration 2644\n",
            "CustomDatasetDataLoader\n",
            "dataset [FrameDataset] was created\n",
            "FrameDataset initialized from: ./datasets/glitch_dataset/train_frames\n",
            "contains 3453 frames, 3452 consecutive pairs\n",
            "#training images = 3452\n",
            "\n",
            "Downloading: \"https://download.pytorch.org/models/vgg19-dcbb9e9d.pth\" to /root/.cache/torch/checkpoints/vgg19-dcbb9e9d.pth\n",
            "100% 548M/548M [00:04<00:00, 116MB/s]\n",
            "create web directory ./checkpoints/glitch_project/web...\n",
            "(epoch: 4, iters: 2744, time: 1.426) G_GAN: 1.819 G_GAN_Feat: 12.075 G_VGG: 1.104 D_real: 0.030 D_fake: 0.055 \n",
            "(epoch: 4, iters: 2844, time: 1.397) G_GAN: 2.066 G_GAN_Feat: 13.949 G_VGG: 1.013 D_real: 0.063 D_fake: 0.020 \n",
            "(epoch: 4, iters: 2944, time: 1.362) G_GAN: 1.721 G_GAN_Feat: 14.040 G_VGG: 1.096 D_real: 0.149 D_fake: 0.044 \n",
            "(epoch: 4, iters: 3044, time: 1.412) G_GAN: 0.709 G_GAN_Feat: 7.943 G_VGG: 0.547 D_real: 0.555 D_fake: 0.383 \n",
            "(epoch: 4, iters: 3144, time: 1.435) G_GAN: 2.799 G_GAN_Feat: 15.491 G_VGG: 1.250 D_real: 0.080 D_fake: 0.105 \n",
            "(epoch: 4, iters: 3244, time: 1.541) G_GAN: 1.809 G_GAN_Feat: 9.294 G_VGG: 1.071 D_real: 0.275 D_fake: 0.030 \n",
            "(epoch: 4, iters: 3344, time: 1.352) G_GAN: 1.284 G_GAN_Feat: 6.047 G_VGG: 0.564 D_real: 0.198 D_fake: 0.209 \n",
            "(epoch: 4, iters: 3444, time: 1.352) G_GAN: 0.904 G_GAN_Feat: 2.857 G_VGG: 0.216 D_real: 0.039 D_fake: 0.239 \n",
            "End of epoch 4 / 200 \t Time Taken: 1146 sec\n",
            "saving the model at the end of epoch 4, iters 13808\n",
            "(epoch: 5, iters: 92, time: 1.529) G_GAN: 2.185 G_GAN_Feat: 10.194 G_VGG: 0.704 D_real: 0.100 D_fake: 0.030 \n",
            "(epoch: 5, iters: 192, time: 1.351) G_GAN: 1.657 G_GAN_Feat: 11.463 G_VGG: 0.908 D_real: 0.039 D_fake: 0.031 \n",
            "saving the latest model (epoch 5, total_steps 14000)\n",
            "(epoch: 5, iters: 292, time: 1.440) G_GAN: 2.475 G_GAN_Feat: 11.346 G_VGG: 1.189 D_real: 0.031 D_fake: 0.039 \n",
            "(epoch: 5, iters: 392, time: 1.368) G_GAN: 1.832 G_GAN_Feat: 11.184 G_VGG: 1.210 D_real: 0.019 D_fake: 0.023 \n",
            "(epoch: 5, iters: 492, time: 1.359) G_GAN: 2.245 G_GAN_Feat: 11.387 G_VGG: 0.848 D_real: 0.299 D_fake: 0.035 \n",
            "(epoch: 5, iters: 592, time: 1.368) G_GAN: 1.654 G_GAN_Feat: 12.716 G_VGG: 1.067 D_real: 0.031 D_fake: 0.040 \n",
            "(epoch: 5, iters: 692, time: 1.441) G_GAN: 0.195 G_GAN_Feat: 2.400 G_VGG: 0.174 D_real: 0.339 D_fake: 1.062 \n",
            "(epoch: 5, iters: 792, time: 1.367) G_GAN: 2.422 G_GAN_Feat: 12.324 G_VGG: 1.064 D_real: 0.030 D_fake: 0.030 \n",
            "(epoch: 5, iters: 892, time: 1.379) G_GAN: 1.974 G_GAN_Feat: 8.338 G_VGG: 0.618 D_real: 0.224 D_fake: 0.252 \n",
            "(epoch: 5, iters: 992, time: 1.351) G_GAN: 1.694 G_GAN_Feat: 10.668 G_VGG: 1.009 D_real: 0.153 D_fake: 0.033 \n",
            "(epoch: 5, iters: 1092, time: 1.384) G_GAN: 2.197 G_GAN_Feat: 12.525 G_VGG: 1.087 D_real: 0.019 D_fake: 0.018 \n",
            "(epoch: 5, iters: 1192, time: 1.376) G_GAN: 1.459 G_GAN_Feat: 11.425 G_VGG: 0.854 D_real: 0.065 D_fake: 0.060 \n",
            "saving the latest model (epoch 5, total_steps 15000)\n",
            "(epoch: 5, iters: 1292, time: 1.381) G_GAN: 1.193 G_GAN_Feat: 16.109 G_VGG: 1.035 D_real: 0.054 D_fake: 0.150 \n",
            "(epoch: 5, iters: 1392, time: 1.355) G_GAN: 2.034 G_GAN_Feat: 9.555 G_VGG: 1.003 D_real: 0.050 D_fake: 0.012 \n",
            "(epoch: 5, iters: 1492, time: 1.366) G_GAN: 1.192 G_GAN_Feat: 6.138 G_VGG: 0.452 D_real: 0.295 D_fake: 0.145 \n",
            "(epoch: 5, iters: 1592, time: 1.415) G_GAN: 1.712 G_GAN_Feat: 10.333 G_VGG: 0.946 D_real: 0.726 D_fake: 0.041 \n",
            "(epoch: 5, iters: 1692, time: 1.447) G_GAN: 2.543 G_GAN_Feat: 9.954 G_VGG: 0.948 D_real: 1.598 D_fake: 0.068 \n",
            "(epoch: 5, iters: 1792, time: 1.379) G_GAN: 1.819 G_GAN_Feat: 13.730 G_VGG: 0.785 D_real: 0.338 D_fake: 0.032 \n",
            "(epoch: 5, iters: 1892, time: 1.363) G_GAN: 2.325 G_GAN_Feat: 10.901 G_VGG: 0.704 D_real: 0.284 D_fake: 0.024 \n",
            "(epoch: 5, iters: 1992, time: 1.351) G_GAN: 2.120 G_GAN_Feat: 11.577 G_VGG: 0.948 D_real: 0.022 D_fake: 0.017 \n",
            "(epoch: 5, iters: 2092, time: 1.404) G_GAN: 1.684 G_GAN_Feat: 15.941 G_VGG: 0.915 D_real: 0.052 D_fake: 0.038 \n",
            "(epoch: 5, iters: 2192, time: 1.351) G_GAN: 1.987 G_GAN_Feat: 16.098 G_VGG: 1.435 D_real: 0.022 D_fake: 0.026 \n",
            "saving the latest model (epoch 5, total_steps 16000)\n",
            "(epoch: 5, iters: 2292, time: 1.378) G_GAN: 1.259 G_GAN_Feat: 10.053 G_VGG: 0.735 D_real: 0.282 D_fake: 0.132 \n",
            "(epoch: 5, iters: 2392, time: 1.351) G_GAN: 0.483 G_GAN_Feat: 13.528 G_VGG: 0.962 D_real: 0.033 D_fake: 0.556 \n",
            "(epoch: 5, iters: 2492, time: 1.351) G_GAN: 2.118 G_GAN_Feat: 8.686 G_VGG: 0.631 D_real: 0.038 D_fake: 0.008 \n",
            "(epoch: 5, iters: 2592, time: 1.351) G_GAN: 2.642 G_GAN_Feat: 13.313 G_VGG: 1.417 D_real: 0.038 D_fake: 0.057 \n",
            "(epoch: 5, iters: 2692, time: 1.352) G_GAN: 1.351 G_GAN_Feat: 3.382 G_VGG: 0.233 D_real: 0.070 D_fake: 0.093 \n",
            "(epoch: 5, iters: 2792, time: 1.351) G_GAN: 1.759 G_GAN_Feat: 3.440 G_VGG: 0.371 D_real: 0.400 D_fake: 0.066 \n",
            "(epoch: 5, iters: 2892, time: 1.361) G_GAN: 2.604 G_GAN_Feat: 12.251 G_VGG: 0.908 D_real: 0.147 D_fake: 0.060 \n",
            "(epoch: 5, iters: 2992, time: 1.422) G_GAN: 1.667 G_GAN_Feat: 10.179 G_VGG: 0.926 D_real: 0.045 D_fake: 0.042 \n",
            "(epoch: 5, iters: 3092, time: 1.351) G_GAN: 2.125 G_GAN_Feat: 11.996 G_VGG: 0.783 D_real: 0.561 D_fake: 0.013 \n",
            "(epoch: 5, iters: 3192, time: 1.351) G_GAN: 1.996 G_GAN_Feat: 9.486 G_VGG: 0.817 D_real: 1.076 D_fake: 0.026 \n",
            "saving the latest model (epoch 5, total_steps 17000)\n",
            "(epoch: 5, iters: 3292, time: 1.351) G_GAN: 1.984 G_GAN_Feat: 12.898 G_VGG: 1.072 D_real: 0.060 D_fake: 0.027 \n",
            "(epoch: 5, iters: 3392, time: 1.351) G_GAN: 2.114 G_GAN_Feat: 9.211 G_VGG: 0.853 D_real: 0.726 D_fake: 0.014 \n",
            "End of epoch 5 / 200 \t Time Taken: 4757 sec\n",
            "saving the model at the end of epoch 5, iters 17260\n",
            "(epoch: 6, iters: 40, time: 1.420) G_GAN: 1.558 G_GAN_Feat: 10.142 G_VGG: 0.831 D_real: 0.058 D_fake: 0.048 \n",
            "(epoch: 6, iters: 140, time: 1.351) G_GAN: 0.676 G_GAN_Feat: 13.918 G_VGG: 1.012 D_real: 0.097 D_fake: 0.397 \n",
            "(epoch: 6, iters: 240, time: 1.351) G_GAN: 1.545 G_GAN_Feat: 13.158 G_VGG: 1.035 D_real: 0.083 D_fake: 0.094 \n",
            "(epoch: 6, iters: 340, time: 1.351) G_GAN: 1.013 G_GAN_Feat: 2.563 G_VGG: 0.261 D_real: 0.074 D_fake: 0.191 \n",
            "(epoch: 6, iters: 440, time: 1.350) G_GAN: 1.772 G_GAN_Feat: 6.035 G_VGG: 0.655 D_real: 0.153 D_fake: 0.022 \n",
            "(epoch: 6, iters: 540, time: 1.350) G_GAN: 2.201 G_GAN_Feat: 10.041 G_VGG: 0.786 D_real: 0.116 D_fake: 0.030 \n",
            "(epoch: 6, iters: 640, time: 1.351) G_GAN: 1.516 G_GAN_Feat: 16.623 G_VGG: 1.228 D_real: 0.035 D_fake: 0.107 \n",
            "(epoch: 6, iters: 740, time: 1.351) G_GAN: 0.758 G_GAN_Feat: 12.326 G_VGG: 1.021 D_real: 0.114 D_fake: 0.330 \n",
            "saving the latest model (epoch 6, total_steps 18000)\n",
            "(epoch: 6, iters: 840, time: 1.351) G_GAN: 0.337 G_GAN_Feat: 16.149 G_VGG: 1.041 D_real: 0.204 D_fake: 0.741 \n",
            "(epoch: 6, iters: 940, time: 1.351) G_GAN: 1.467 G_GAN_Feat: 10.893 G_VGG: 0.825 D_real: 0.064 D_fake: 0.068 \n",
            "(epoch: 6, iters: 1040, time: 1.351) G_GAN: 0.756 G_GAN_Feat: 8.148 G_VGG: 0.582 D_real: 0.053 D_fake: 0.369 \n",
            "(epoch: 6, iters: 1140, time: 1.351) G_GAN: 2.038 G_GAN_Feat: 13.316 G_VGG: 1.103 D_real: 0.027 D_fake: 0.027 \n",
            "(epoch: 6, iters: 1240, time: 1.351) G_GAN: 0.709 G_GAN_Feat: 11.066 G_VGG: 0.637 D_real: 0.077 D_fake: 0.453 \n",
            "(epoch: 6, iters: 1340, time: 1.351) G_GAN: 1.485 G_GAN_Feat: 12.300 G_VGG: 1.271 D_real: 0.061 D_fake: 0.054 \n",
            "(epoch: 6, iters: 1440, time: 1.350) G_GAN: 1.770 G_GAN_Feat: 14.769 G_VGG: 0.999 D_real: 0.093 D_fake: 0.037 \n",
            "(epoch: 6, iters: 1540, time: 1.350) G_GAN: 1.590 G_GAN_Feat: 9.594 G_VGG: 1.045 D_real: 0.351 D_fake: 0.050 \n",
            "(epoch: 6, iters: 1640, time: 1.351) G_GAN: 1.662 G_GAN_Feat: 11.812 G_VGG: 1.144 D_real: 0.065 D_fake: 0.044 \n",
            "(epoch: 6, iters: 1740, time: 1.351) G_GAN: 1.009 G_GAN_Feat: 13.393 G_VGG: 1.109 D_real: 0.107 D_fake: 0.199 \n",
            "saving the latest model (epoch 6, total_steps 19000)\n",
            "(epoch: 6, iters: 1840, time: 1.351) G_GAN: 2.074 G_GAN_Feat: 9.573 G_VGG: 0.831 D_real: 0.271 D_fake: 0.053 \n",
            "(epoch: 6, iters: 1940, time: 1.351) G_GAN: 1.857 G_GAN_Feat: 10.142 G_VGG: 0.815 D_real: 0.040 D_fake: 0.021 \n",
            "(epoch: 6, iters: 2040, time: 1.350) G_GAN: 2.286 G_GAN_Feat: 11.555 G_VGG: 0.783 D_real: 0.093 D_fake: 0.028 \n",
            "(epoch: 6, iters: 2140, time: 1.350) G_GAN: 2.286 G_GAN_Feat: 12.322 G_VGG: 1.014 D_real: 0.046 D_fake: 0.033 \n",
            "(epoch: 6, iters: 2240, time: 1.350) G_GAN: 2.169 G_GAN_Feat: 13.184 G_VGG: 0.894 D_real: 0.053 D_fake: 0.017 \n",
            "(epoch: 6, iters: 2340, time: 1.351) G_GAN: 1.869 G_GAN_Feat: 2.631 G_VGG: 0.231 D_real: 1.889 D_fake: 0.014 \n",
            "(epoch: 6, iters: 2440, time: 1.350) G_GAN: 1.678 G_GAN_Feat: 13.421 G_VGG: 1.101 D_real: 0.054 D_fake: 0.025 \n",
            "(epoch: 6, iters: 2540, time: 1.350) G_GAN: 2.125 G_GAN_Feat: 13.064 G_VGG: 0.867 D_real: 0.206 D_fake: 0.044 \n",
            "(epoch: 6, iters: 2640, time: 1.351) G_GAN: 2.438 G_GAN_Feat: 8.904 G_VGG: 0.812 D_real: 0.035 D_fake: 0.044 \n",
            "(epoch: 6, iters: 2740, time: 1.350) G_GAN: 0.799 G_GAN_Feat: 7.776 G_VGG: 0.659 D_real: 1.027 D_fake: 0.298 \n",
            "saving the latest model (epoch 6, total_steps 20000)\n",
            "(epoch: 6, iters: 2840, time: 1.351) G_GAN: 1.981 G_GAN_Feat: 10.221 G_VGG: 1.074 D_real: 0.046 D_fake: 0.015 \n",
            "(epoch: 6, iters: 2940, time: 1.350) G_GAN: 1.671 G_GAN_Feat: 10.342 G_VGG: 0.802 D_real: 0.059 D_fake: 0.056 \n",
            "(epoch: 6, iters: 3040, time: 1.351) G_GAN: 0.888 G_GAN_Feat: 9.463 G_VGG: 0.834 D_real: 0.036 D_fake: 0.289 \n",
            "(epoch: 6, iters: 3140, time: 1.350) G_GAN: 1.682 G_GAN_Feat: 9.641 G_VGG: 0.905 D_real: 0.031 D_fake: 0.025 \n",
            "(epoch: 6, iters: 3240, time: 1.351) G_GAN: 1.618 G_GAN_Feat: 7.014 G_VGG: 0.518 D_real: 0.189 D_fake: 0.044 \n",
            "(epoch: 6, iters: 3340, time: 1.351) G_GAN: 1.385 G_GAN_Feat: 13.039 G_VGG: 1.109 D_real: 0.216 D_fake: 0.093 \n",
            "(epoch: 6, iters: 3440, time: 1.351) G_GAN: 1.098 G_GAN_Feat: 9.586 G_VGG: 0.543 D_real: 0.374 D_fake: 0.153 \n",
            "End of epoch 6 / 200 \t Time Taken: 4673 sec\n",
            "saving the model at the end of epoch 6, iters 20712\n",
            "(epoch: 7, iters: 88, time: 1.446) G_GAN: 1.290 G_GAN_Feat: 7.744 G_VGG: 0.414 D_real: 0.063 D_fake: 0.094 \n",
            "(epoch: 7, iters: 188, time: 1.351) G_GAN: 2.163 G_GAN_Feat: 11.014 G_VGG: 1.078 D_real: 0.028 D_fake: 0.016 \n",
            "(epoch: 7, iters: 288, time: 1.351) G_GAN: 1.984 G_GAN_Feat: 10.908 G_VGG: 0.886 D_real: 0.121 D_fake: 0.031 \n",
            "saving the latest model (epoch 7, total_steps 21000)\n",
            "(epoch: 7, iters: 388, time: 1.351) G_GAN: 0.711 G_GAN_Feat: 7.501 G_VGG: 0.346 D_real: 0.035 D_fake: 0.357 \n",
            "(epoch: 7, iters: 488, time: 1.351) G_GAN: 1.062 G_GAN_Feat: 3.650 G_VGG: 0.210 D_real: 0.749 D_fake: 0.208 \n",
            "(epoch: 7, iters: 588, time: 1.351) G_GAN: 2.133 G_GAN_Feat: 12.139 G_VGG: 0.818 D_real: 1.038 D_fake: 0.010 \n",
            "(epoch: 7, iters: 688, time: 1.351) G_GAN: 2.959 G_GAN_Feat: 11.431 G_VGG: 0.851 D_real: 0.319 D_fake: 0.118 \n",
            "(epoch: 7, iters: 788, time: 1.351) G_GAN: 0.742 G_GAN_Feat: 10.938 G_VGG: 0.718 D_real: 0.204 D_fake: 0.322 \n",
            "(epoch: 7, iters: 888, time: 1.350) G_GAN: 1.811 G_GAN_Feat: 14.064 G_VGG: 1.064 D_real: 0.073 D_fake: 0.044 \n",
            "(epoch: 7, iters: 988, time: 1.351) G_GAN: 1.526 G_GAN_Feat: 12.486 G_VGG: 1.062 D_real: 0.012 D_fake: 0.044 \n",
            "(epoch: 7, iters: 1088, time: 1.351) G_GAN: 2.182 G_GAN_Feat: 10.465 G_VGG: 0.813 D_real: 0.050 D_fake: 0.019 \n",
            "(epoch: 7, iters: 1188, time: 1.351) G_GAN: 2.066 G_GAN_Feat: 11.422 G_VGG: 1.115 D_real: 0.366 D_fake: 0.023 \n",
            "(epoch: 7, iters: 1288, time: 1.351) G_GAN: 2.132 G_GAN_Feat: 14.237 G_VGG: 1.146 D_real: 0.059 D_fake: 0.045 \n",
            "saving the latest model (epoch 7, total_steps 22000)\n",
            "(epoch: 7, iters: 1388, time: 1.351) G_GAN: 1.235 G_GAN_Feat: 14.262 G_VGG: 1.075 D_real: 0.062 D_fake: 0.169 \n",
            "(epoch: 7, iters: 1488, time: 1.351) G_GAN: 1.729 G_GAN_Feat: 13.189 G_VGG: 0.992 D_real: 0.054 D_fake: 0.043 \n",
            "(epoch: 7, iters: 1588, time: 1.350) G_GAN: 1.084 G_GAN_Feat: 2.691 G_VGG: 0.208 D_real: 0.028 D_fake: 0.235 \n",
            "(epoch: 7, iters: 1688, time: 1.351) G_GAN: 0.365 G_GAN_Feat: 2.832 G_VGG: 0.214 D_real: 0.106 D_fake: 0.690 \n",
            "(epoch: 7, iters: 1788, time: 1.351) G_GAN: 0.668 G_GAN_Feat: 10.081 G_VGG: 0.767 D_real: 0.028 D_fake: 0.394 \n",
            "(epoch: 7, iters: 1888, time: 1.351) G_GAN: 0.644 G_GAN_Feat: 1.817 G_VGG: 0.182 D_real: 0.065 D_fake: 0.446 \n",
            "(epoch: 7, iters: 1988, time: 1.351) G_GAN: 0.533 G_GAN_Feat: 8.154 G_VGG: 0.575 D_real: 0.033 D_fake: 0.632 \n",
            "(epoch: 7, iters: 2088, time: 1.350) G_GAN: 0.106 G_GAN_Feat: 15.788 G_VGG: 1.048 D_real: 0.095 D_fake: 1.305 \n",
            "(epoch: 7, iters: 2188, time: 1.350) G_GAN: 1.780 G_GAN_Feat: 10.778 G_VGG: 1.060 D_real: 0.049 D_fake: 0.027 \n",
            "(epoch: 7, iters: 2288, time: 1.351) G_GAN: 2.336 G_GAN_Feat: 11.097 G_VGG: 1.348 D_real: 0.040 D_fake: 0.022 \n",
            "saving the latest model (epoch 7, total_steps 23000)\n",
            "(epoch: 7, iters: 2388, time: 1.351) G_GAN: 1.436 G_GAN_Feat: 5.264 G_VGG: 0.389 D_real: 0.081 D_fake: 0.113 \n",
            "(epoch: 7, iters: 2488, time: 1.350) G_GAN: 2.061 G_GAN_Feat: 12.932 G_VGG: 0.875 D_real: 0.020 D_fake: 0.009 \n",
            "(epoch: 7, iters: 2588, time: 1.351) G_GAN: 2.118 G_GAN_Feat: 12.470 G_VGG: 1.182 D_real: 0.016 D_fake: 0.009 \n",
            "(epoch: 7, iters: 2688, time: 1.351) G_GAN: 2.793 G_GAN_Feat: 7.448 G_VGG: 0.852 D_real: 0.664 D_fake: 0.096 \n",
            "(epoch: 7, iters: 2788, time: 1.351) G_GAN: 1.528 G_GAN_Feat: 8.134 G_VGG: 0.527 D_real: 0.294 D_fake: 0.069 \n",
            "(epoch: 7, iters: 2888, time: 1.350) G_GAN: 2.328 G_GAN_Feat: 9.768 G_VGG: 0.842 D_real: 0.861 D_fake: 0.022 \n",
            "(epoch: 7, iters: 2988, time: 1.351) G_GAN: 1.841 G_GAN_Feat: 12.843 G_VGG: 1.153 D_real: 0.318 D_fake: 0.019 \n",
            "(epoch: 7, iters: 3088, time: 1.351) G_GAN: 2.481 G_GAN_Feat: 13.366 G_VGG: 0.834 D_real: 0.047 D_fake: 0.044 \n",
            "(epoch: 7, iters: 3188, time: 1.351) G_GAN: 2.076 G_GAN_Feat: 14.789 G_VGG: 1.398 D_real: 0.049 D_fake: 0.022 \n",
            "(epoch: 7, iters: 3288, time: 1.350) G_GAN: 0.696 G_GAN_Feat: 12.229 G_VGG: 1.382 D_real: 0.046 D_fake: 0.440 \n",
            "saving the latest model (epoch 7, total_steps 24000)\n",
            "(epoch: 7, iters: 3388, time: 1.351) G_GAN: 2.366 G_GAN_Feat: 9.694 G_VGG: 0.820 D_real: 0.108 D_fake: 0.053 \n",
            "End of epoch 7 / 200 \t Time Taken: 4677 sec\n",
            "saving the model at the end of epoch 7, iters 24164\n",
            "(epoch: 8, iters: 36, time: 1.427) G_GAN: 1.575 G_GAN_Feat: 12.449 G_VGG: 0.860 D_real: 0.058 D_fake: 0.039 \n",
            "(epoch: 8, iters: 136, time: 1.350) G_GAN: 1.081 G_GAN_Feat: 13.352 G_VGG: 0.983 D_real: 0.232 D_fake: 0.160 \n",
            "(epoch: 8, iters: 236, time: 1.351) G_GAN: 1.822 G_GAN_Feat: 13.290 G_VGG: 0.846 D_real: 0.024 D_fake: 0.013 \n",
            "(epoch: 8, iters: 336, time: 1.351) G_GAN: 1.291 G_GAN_Feat: 10.374 G_VGG: 0.742 D_real: 0.159 D_fake: 0.284 \n",
            "(epoch: 8, iters: 436, time: 1.350) G_GAN: 1.938 G_GAN_Feat: 8.079 G_VGG: 0.841 D_real: 0.025 D_fake: 0.022 \n",
            "(epoch: 8, iters: 536, time: 1.351) G_GAN: 1.676 G_GAN_Feat: 13.639 G_VGG: 0.956 D_real: 0.057 D_fake: 0.052 \n",
            "(epoch: 8, iters: 636, time: 1.351) G_GAN: 1.319 G_GAN_Feat: 3.346 G_VGG: 0.163 D_real: 0.013 D_fake: 0.108 \n",
            "(epoch: 8, iters: 736, time: 1.351) G_GAN: 2.414 G_GAN_Feat: 12.201 G_VGG: 1.306 D_real: 0.081 D_fake: 0.061 \n",
            "(epoch: 8, iters: 836, time: 1.351) G_GAN: 1.205 G_GAN_Feat: 6.548 G_VGG: 0.573 D_real: 0.494 D_fake: 0.211 \n",
            "saving the latest model (epoch 8, total_steps 25000)\n",
            "(epoch: 8, iters: 936, time: 1.351) G_GAN: 1.945 G_GAN_Feat: 13.410 G_VGG: 1.109 D_real: 0.029 D_fake: 0.010 \n",
            "(epoch: 8, iters: 1036, time: 1.350) G_GAN: 2.101 G_GAN_Feat: 7.568 G_VGG: 0.399 D_real: 0.030 D_fake: 0.026 \n",
            "(epoch: 8, iters: 1136, time: 1.351) G_GAN: 2.122 G_GAN_Feat: 13.766 G_VGG: 1.383 D_real: 0.038 D_fake: 0.021 \n",
            "(epoch: 8, iters: 1236, time: 1.350) G_GAN: 0.828 G_GAN_Feat: 9.464 G_VGG: 0.613 D_real: 0.023 D_fake: 0.321 \n",
            "(epoch: 8, iters: 1336, time: 1.351) G_GAN: 2.429 G_GAN_Feat: 11.679 G_VGG: 0.866 D_real: 0.031 D_fake: 0.068 \n",
            "(epoch: 8, iters: 1436, time: 1.351) G_GAN: 1.819 G_GAN_Feat: 12.465 G_VGG: 1.071 D_real: 0.044 D_fake: 0.022 \n",
            "(epoch: 8, iters: 1536, time: 1.351) G_GAN: 1.619 G_GAN_Feat: 3.229 G_VGG: 0.157 D_real: 0.014 D_fake: 0.029 \n",
            "(epoch: 8, iters: 1636, time: 1.350) G_GAN: 0.638 G_GAN_Feat: 7.768 G_VGG: 0.642 D_real: 0.074 D_fake: 0.478 \n",
            "(epoch: 8, iters: 1736, time: 1.350) G_GAN: 1.508 G_GAN_Feat: 10.492 G_VGG: 0.722 D_real: 0.026 D_fake: 0.046 \n",
            "(epoch: 8, iters: 1836, time: 1.350) G_GAN: 1.068 G_GAN_Feat: 8.025 G_VGG: 0.688 D_real: 0.189 D_fake: 0.216 \n",
            "saving the latest model (epoch 8, total_steps 26000)\n",
            "(epoch: 8, iters: 1936, time: 1.351) G_GAN: 0.351 G_GAN_Feat: 2.212 G_VGG: 0.166 D_real: 0.274 D_fake: 0.714 \n",
            "(epoch: 8, iters: 2036, time: 1.350) G_GAN: 0.634 G_GAN_Feat: 9.882 G_VGG: 0.636 D_real: 0.634 D_fake: 0.600 \n",
            "(epoch: 8, iters: 2136, time: 1.350) G_GAN: 1.610 G_GAN_Feat: 12.039 G_VGG: 0.782 D_real: 0.042 D_fake: 0.030 \n",
            "(epoch: 8, iters: 2236, time: 1.350) G_GAN: 1.322 G_GAN_Feat: 2.267 G_VGG: 0.283 D_real: 0.216 D_fake: 0.095 \n",
            "(epoch: 8, iters: 2336, time: 1.350) G_GAN: 1.944 G_GAN_Feat: 9.416 G_VGG: 0.961 D_real: 0.052 D_fake: 0.013 \n",
            "(epoch: 8, iters: 2436, time: 1.350) G_GAN: 2.027 G_GAN_Feat: 11.040 G_VGG: 0.688 D_real: 0.368 D_fake: 0.016 \n",
            "(epoch: 8, iters: 2536, time: 1.351) G_GAN: 2.174 G_GAN_Feat: 14.958 G_VGG: 1.082 D_real: 0.039 D_fake: 0.023 \n",
            "(epoch: 8, iters: 2636, time: 1.350) G_GAN: 0.708 G_GAN_Feat: 10.088 G_VGG: 0.863 D_real: 0.342 D_fake: 0.372 \n",
            "(epoch: 8, iters: 2736, time: 1.350) G_GAN: 1.612 G_GAN_Feat: 10.569 G_VGG: 0.883 D_real: 0.090 D_fake: 0.054 \n",
            "(epoch: 8, iters: 2836, time: 1.350) G_GAN: 1.562 G_GAN_Feat: 2.951 G_VGG: 0.159 D_real: 0.737 D_fake: 0.045 \n",
            "saving the latest model (epoch 8, total_steps 27000)\n",
            "(epoch: 8, iters: 2936, time: 1.351) G_GAN: 1.946 G_GAN_Feat: 8.386 G_VGG: 0.577 D_real: 0.036 D_fake: 0.013 \n",
            "(epoch: 8, iters: 3036, time: 1.350) G_GAN: 2.237 G_GAN_Feat: 12.671 G_VGG: 0.921 D_real: 0.109 D_fake: 0.022 \n",
            "(epoch: 8, iters: 3136, time: 1.351) G_GAN: 2.093 G_GAN_Feat: 12.586 G_VGG: 0.900 D_real: 0.053 D_fake: 0.024 \n",
            "(epoch: 8, iters: 3236, time: 1.351) G_GAN: 1.958 G_GAN_Feat: 11.213 G_VGG: 0.869 D_real: 0.043 D_fake: 0.019 \n",
            "(epoch: 8, iters: 3336, time: 1.351) G_GAN: 1.891 G_GAN_Feat: 10.570 G_VGG: 0.740 D_real: 0.020 D_fake: 0.016 \n",
            "(epoch: 8, iters: 3436, time: 1.351) G_GAN: 1.786 G_GAN_Feat: 10.174 G_VGG: 0.847 D_real: 0.020 D_fake: 0.025 \n",
            "End of epoch 8 / 200 \t Time Taken: 4673 sec\n",
            "saving the model at the end of epoch 8, iters 27616\n",
            "(epoch: 9, iters: 84, time: 1.449) G_GAN: 0.309 G_GAN_Feat: 6.103 G_VGG: 0.440 D_real: 0.016 D_fake: 0.781 \n",
            "(epoch: 9, iters: 184, time: 1.351) G_GAN: 1.760 G_GAN_Feat: 8.622 G_VGG: 0.729 D_real: 0.644 D_fake: 0.026 \n",
            "(epoch: 9, iters: 284, time: 1.351) G_GAN: 0.450 G_GAN_Feat: 7.876 G_VGG: 0.555 D_real: 0.145 D_fake: 0.616 \n",
            "(epoch: 9, iters: 384, time: 1.351) G_GAN: 1.986 G_GAN_Feat: 11.918 G_VGG: 0.830 D_real: 0.154 D_fake: 0.015 \n",
            "saving the latest model (epoch 9, total_steps 28000)\n",
            "(epoch: 9, iters: 484, time: 1.351) G_GAN: 2.088 G_GAN_Feat: 8.442 G_VGG: 1.190 D_real: 0.084 D_fake: 0.017 \n",
            "(epoch: 9, iters: 584, time: 1.350) G_GAN: 1.490 G_GAN_Feat: 9.335 G_VGG: 0.824 D_real: 0.239 D_fake: 0.085 \n",
            "(epoch: 9, iters: 684, time: 1.351) G_GAN: 1.972 G_GAN_Feat: 2.224 G_VGG: 0.189 D_real: 0.171 D_fake: 0.012 \n",
            "(epoch: 9, iters: 784, time: 1.351) G_GAN: 2.215 G_GAN_Feat: 12.386 G_VGG: 0.987 D_real: 0.043 D_fake: 0.016 \n",
            "(epoch: 9, iters: 884, time: 1.351) G_GAN: 2.422 G_GAN_Feat: 10.188 G_VGG: 1.105 D_real: 0.058 D_fake: 0.043 \n",
            "(epoch: 9, iters: 984, time: 1.351) G_GAN: 0.362 G_GAN_Feat: 9.003 G_VGG: 0.281 D_real: 0.363 D_fake: 0.754 \n",
            "(epoch: 9, iters: 1084, time: 1.351) G_GAN: 2.113 G_GAN_Feat: 10.672 G_VGG: 0.541 D_real: 0.047 D_fake: 0.024 \n",
            "(epoch: 9, iters: 1184, time: 1.351) G_GAN: 1.958 G_GAN_Feat: 14.295 G_VGG: 1.102 D_real: 0.030 D_fake: 0.031 \n",
            "(epoch: 9, iters: 1284, time: 1.351) G_GAN: 2.382 G_GAN_Feat: 11.311 G_VGG: 1.012 D_real: 0.224 D_fake: 0.033 \n",
            "(epoch: 9, iters: 1384, time: 1.351) G_GAN: 2.292 G_GAN_Feat: 9.488 G_VGG: 0.671 D_real: 0.065 D_fake: 0.026 \n",
            "saving the latest model (epoch 9, total_steps 29000)\n",
            "(epoch: 9, iters: 1484, time: 1.351) G_GAN: 1.773 G_GAN_Feat: 2.739 G_VGG: 0.130 D_real: 0.058 D_fake: 0.027 \n",
            "(epoch: 9, iters: 1584, time: 1.351) G_GAN: 2.309 G_GAN_Feat: 8.328 G_VGG: 0.469 D_real: 0.039 D_fake: 0.024 \n",
            "(epoch: 9, iters: 1684, time: 1.350) G_GAN: 2.288 G_GAN_Feat: 9.820 G_VGG: 0.729 D_real: 0.032 D_fake: 0.029 \n",
            "(epoch: 9, iters: 1784, time: 1.350) G_GAN: 1.656 G_GAN_Feat: 9.366 G_VGG: 0.548 D_real: 0.039 D_fake: 0.058 \n",
            "(epoch: 9, iters: 1884, time: 1.350) G_GAN: 1.895 G_GAN_Feat: 12.834 G_VGG: 1.603 D_real: 0.022 D_fake: 0.015 \n",
            "(epoch: 9, iters: 1984, time: 1.351) G_GAN: 1.927 G_GAN_Feat: 10.471 G_VGG: 0.714 D_real: 0.016 D_fake: 0.014 \n",
            "(epoch: 9, iters: 2084, time: 1.351) G_GAN: 1.201 G_GAN_Feat: 7.709 G_VGG: 0.641 D_real: 0.025 D_fake: 0.355 \n",
            "(epoch: 9, iters: 2184, time: 1.351) G_GAN: 1.423 G_GAN_Feat: 8.753 G_VGG: 0.635 D_real: 0.245 D_fake: 0.115 \n",
            "(epoch: 9, iters: 2284, time: 1.351) G_GAN: 2.536 G_GAN_Feat: 10.814 G_VGG: 0.737 D_real: 0.601 D_fake: 0.050 \n",
            "(epoch: 9, iters: 2384, time: 1.351) G_GAN: 1.977 G_GAN_Feat: 8.649 G_VGG: 0.621 D_real: 0.366 D_fake: 0.018 \n",
            "saving the latest model (epoch 9, total_steps 30000)\n",
            "(epoch: 9, iters: 2484, time: 1.351) G_GAN: 2.608 G_GAN_Feat: 12.497 G_VGG: 1.053 D_real: 0.055 D_fake: 0.088 \n",
            "(epoch: 9, iters: 2584, time: 1.351) G_GAN: 1.522 G_GAN_Feat: 7.226 G_VGG: 0.507 D_real: 0.044 D_fake: 0.052 \n",
            "(epoch: 9, iters: 2684, time: 1.351) G_GAN: 1.324 G_GAN_Feat: 12.843 G_VGG: 0.879 D_real: 0.025 D_fake: 0.126 \n",
            "(epoch: 9, iters: 2784, time: 1.351) G_GAN: 1.430 G_GAN_Feat: 11.970 G_VGG: 0.918 D_real: 0.026 D_fake: 0.069 \n",
            "(epoch: 9, iters: 2884, time: 1.351) G_GAN: 1.661 G_GAN_Feat: 8.444 G_VGG: 0.664 D_real: 0.066 D_fake: 0.036 \n",
            "(epoch: 9, iters: 2984, time: 1.350) G_GAN: 2.269 G_GAN_Feat: 5.689 G_VGG: 0.265 D_real: 0.299 D_fake: 0.024 \n",
            "(epoch: 9, iters: 3084, time: 1.351) G_GAN: 1.339 G_GAN_Feat: 11.059 G_VGG: 0.844 D_real: 0.044 D_fake: 0.159 \n",
            "(epoch: 9, iters: 3184, time: 1.351) G_GAN: 2.240 G_GAN_Feat: 11.243 G_VGG: 1.316 D_real: 0.036 D_fake: 0.013 \n",
            "(epoch: 9, iters: 3284, time: 1.351) G_GAN: 2.349 G_GAN_Feat: 9.068 G_VGG: 0.660 D_real: 0.278 D_fake: 0.051 \n",
            "(epoch: 9, iters: 3384, time: 1.350) G_GAN: 2.210 G_GAN_Feat: 10.436 G_VGG: 0.694 D_real: 0.015 D_fake: 0.014 \n",
            "saving the latest model (epoch 9, total_steps 31000)\n",
            "End of epoch 9 / 200 \t Time Taken: 4677 sec\n",
            "saving the model at the end of epoch 9, iters 31068\n",
            "(epoch: 10, iters: 32, time: 1.422) G_GAN: 0.982 G_GAN_Feat: 8.810 G_VGG: 0.640 D_real: 0.026 D_fake: 0.697 \n",
            "(epoch: 10, iters: 132, time: 1.350) G_GAN: 0.941 G_GAN_Feat: 12.005 G_VGG: 1.055 D_real: 0.362 D_fake: 0.337 \n",
            "(epoch: 10, iters: 232, time: 1.350) G_GAN: 2.061 G_GAN_Feat: 16.180 G_VGG: 1.305 D_real: 0.046 D_fake: 0.014 \n",
            "(epoch: 10, iters: 332, time: 1.351) G_GAN: 0.717 G_GAN_Feat: 0.517 G_VGG: 0.095 D_real: 0.511 D_fake: 0.335 \n",
            "(epoch: 10, iters: 432, time: 1.350) G_GAN: 1.021 G_GAN_Feat: 8.836 G_VGG: 0.965 D_real: 0.056 D_fake: 0.206 \n",
            "(epoch: 10, iters: 532, time: 1.350) G_GAN: 2.283 G_GAN_Feat: 7.922 G_VGG: 0.668 D_real: 1.326 D_fake: 0.017 \n",
            "(epoch: 10, iters: 632, time: 1.350) G_GAN: 2.071 G_GAN_Feat: 10.938 G_VGG: 0.643 D_real: 0.040 D_fake: 0.017 \n",
            "(epoch: 10, iters: 732, time: 1.350) G_GAN: 1.516 G_GAN_Feat: 2.345 G_VGG: 0.128 D_real: 0.294 D_fake: 0.047 \n",
            "(epoch: 10, iters: 832, time: 1.350) G_GAN: 1.549 G_GAN_Feat: 11.283 G_VGG: 0.834 D_real: 0.086 D_fake: 0.062 \n",
            "(epoch: 10, iters: 932, time: 1.350) G_GAN: 1.953 G_GAN_Feat: 12.129 G_VGG: 0.756 D_real: 0.019 D_fake: 0.022 \n",
            "saving the latest model (epoch 10, total_steps 32000)\n",
            "(epoch: 10, iters: 1032, time: 1.350) G_GAN: 1.819 G_GAN_Feat: 12.584 G_VGG: 0.866 D_real: 0.024 D_fake: 0.015 \n",
            "(epoch: 10, iters: 1132, time: 1.350) G_GAN: 1.171 G_GAN_Feat: 1.648 G_VGG: 0.125 D_real: 0.969 D_fake: 0.155 \n",
            "(epoch: 10, iters: 1232, time: 1.350) G_GAN: 1.792 G_GAN_Feat: 1.935 G_VGG: 0.130 D_real: 1.392 D_fake: 0.047 \n",
            "(epoch: 10, iters: 1332, time: 1.350) G_GAN: 0.311 G_GAN_Feat: 11.197 G_VGG: 0.742 D_real: 0.045 D_fake: 0.766 \n",
            "(epoch: 10, iters: 1432, time: 1.350) G_GAN: 1.402 G_GAN_Feat: 11.584 G_VGG: 0.887 D_real: 0.045 D_fake: 0.098 \n",
            "(epoch: 10, iters: 1532, time: 1.350) G_GAN: 2.053 G_GAN_Feat: 10.559 G_VGG: 1.030 D_real: 0.027 D_fake: 0.019 \n",
            "(epoch: 10, iters: 1632, time: 1.350) G_GAN: 0.477 G_GAN_Feat: 10.252 G_VGG: 0.638 D_real: 0.077 D_fake: 0.804 \n",
            "(epoch: 10, iters: 1732, time: 1.350) G_GAN: 2.123 G_GAN_Feat: 12.768 G_VGG: 1.052 D_real: 0.034 D_fake: 0.030 \n",
            "(epoch: 10, iters: 1832, time: 1.350) G_GAN: 1.913 G_GAN_Feat: 10.579 G_VGG: 0.690 D_real: 0.028 D_fake: 0.014 \n",
            "(epoch: 10, iters: 1932, time: 1.350) G_GAN: 2.088 G_GAN_Feat: 6.074 G_VGG: 0.277 D_real: 0.357 D_fake: 0.011 \n",
            "saving the latest model (epoch 10, total_steps 33000)\n",
            "(epoch: 10, iters: 2032, time: 1.351) G_GAN: 1.384 G_GAN_Feat: 6.820 G_VGG: 0.272 D_real: 0.571 D_fake: 0.077 \n",
            "(epoch: 10, iters: 2132, time: 1.350) G_GAN: 1.888 G_GAN_Feat: 10.610 G_VGG: 0.682 D_real: 0.031 D_fake: 0.032 \n",
            "(epoch: 10, iters: 2232, time: 1.351) G_GAN: 2.266 G_GAN_Feat: 11.775 G_VGG: 0.960 D_real: 0.041 D_fake: 0.024 \n",
            "(epoch: 10, iters: 2332, time: 1.350) G_GAN: 0.828 G_GAN_Feat: 15.065 G_VGG: 1.175 D_real: 0.087 D_fake: 0.450 \n",
            "(epoch: 10, iters: 2432, time: 1.351) G_GAN: 1.784 G_GAN_Feat: 11.602 G_VGG: 0.899 D_real: 0.351 D_fake: 0.017 \n",
            "(epoch: 10, iters: 2532, time: 1.350) G_GAN: 2.272 G_GAN_Feat: 10.305 G_VGG: 0.838 D_real: 0.158 D_fake: 0.019 \n",
            "(epoch: 10, iters: 2632, time: 1.350) G_GAN: 1.486 G_GAN_Feat: 16.826 G_VGG: 1.024 D_real: 0.008 D_fake: 0.045 \n",
            "(epoch: 10, iters: 2732, time: 1.351) G_GAN: 0.803 G_GAN_Feat: 8.930 G_VGG: 0.648 D_real: 0.064 D_fake: 0.314 \n",
            "(epoch: 10, iters: 2832, time: 1.350) G_GAN: 1.676 G_GAN_Feat: 12.929 G_VGG: 0.667 D_real: 0.054 D_fake: 0.026 \n",
            "(epoch: 10, iters: 2932, time: 1.350) G_GAN: 1.889 G_GAN_Feat: 10.603 G_VGG: 1.043 D_real: 0.034 D_fake: 0.020 \n",
            "saving the latest model (epoch 10, total_steps 34000)\n",
            "(epoch: 10, iters: 3032, time: 1.351) G_GAN: 1.358 G_GAN_Feat: 13.081 G_VGG: 0.781 D_real: 0.129 D_fake: 0.083 \n",
            "(epoch: 10, iters: 3132, time: 1.350) G_GAN: 2.177 G_GAN_Feat: 12.717 G_VGG: 1.115 D_real: 1.437 D_fake: 0.014 \n",
            "(epoch: 10, iters: 3232, time: 1.350) G_GAN: 1.982 G_GAN_Feat: 9.810 G_VGG: 0.636 D_real: 0.148 D_fake: 0.051 \n",
            "(epoch: 10, iters: 3332, time: 1.350) G_GAN: 2.034 G_GAN_Feat: 12.686 G_VGG: 1.045 D_real: 0.062 D_fake: 0.016 \n",
            "(epoch: 10, iters: 3432, time: 1.350) G_GAN: 1.135 G_GAN_Feat: 8.226 G_VGG: 0.305 D_real: 0.020 D_fake: 0.241 \n",
            "End of epoch 10 / 200 \t Time Taken: 4673 sec\n",
            "saving the model at the end of epoch 10, iters 34520\n",
            "(epoch: 11, iters: 80, time: 1.421) G_GAN: 1.118 G_GAN_Feat: 5.109 G_VGG: 0.527 D_real: 0.096 D_fake: 0.233 \n",
            "(epoch: 11, iters: 180, time: 1.350) G_GAN: 2.166 G_GAN_Feat: 15.575 G_VGG: 0.914 D_real: 0.022 D_fake: 0.023 \n",
            "(epoch: 11, iters: 280, time: 1.351) G_GAN: 1.438 G_GAN_Feat: 3.257 G_VGG: 0.234 D_real: 0.370 D_fake: 0.071 \n",
            "(epoch: 11, iters: 380, time: 1.350) G_GAN: 2.454 G_GAN_Feat: 11.570 G_VGG: 0.876 D_real: 0.073 D_fake: 0.056 \n",
            "(epoch: 11, iters: 480, time: 1.351) G_GAN: 1.823 G_GAN_Feat: 7.722 G_VGG: 0.708 D_real: 0.036 D_fake: 0.018 \n",
            "saving the latest model (epoch 11, total_steps 35000)\n",
            "(epoch: 11, iters: 580, time: 1.351) G_GAN: 2.172 G_GAN_Feat: 14.292 G_VGG: 1.055 D_real: 0.020 D_fake: 0.024 \n",
            "(epoch: 11, iters: 680, time: 1.350) G_GAN: 2.420 G_GAN_Feat: 8.373 G_VGG: 0.790 D_real: 0.622 D_fake: 0.037 \n",
            "(epoch: 11, iters: 780, time: 1.351) G_GAN: 1.624 G_GAN_Feat: 13.213 G_VGG: 1.137 D_real: 0.173 D_fake: 0.036 \n",
            "(epoch: 11, iters: 880, time: 1.351) G_GAN: 2.125 G_GAN_Feat: 14.797 G_VGG: 0.998 D_real: 0.043 D_fake: 0.020 \n",
            "(epoch: 11, iters: 980, time: 1.350) G_GAN: 1.308 G_GAN_Feat: 11.133 G_VGG: 0.683 D_real: 0.038 D_fake: 0.103 \n",
            "(epoch: 11, iters: 1080, time: 1.351) G_GAN: 1.333 G_GAN_Feat: 10.805 G_VGG: 0.672 D_real: 0.098 D_fake: 0.093 \n",
            "(epoch: 11, iters: 1180, time: 1.351) G_GAN: 0.143 G_GAN_Feat: 6.223 G_VGG: 0.498 D_real: 0.023 D_fake: 1.164 \n",
            "(epoch: 11, iters: 1280, time: 1.351) G_GAN: 1.773 G_GAN_Feat: 10.045 G_VGG: 0.786 D_real: 0.037 D_fake: 0.032 \n",
            "(epoch: 11, iters: 1380, time: 1.351) G_GAN: 0.912 G_GAN_Feat: 10.055 G_VGG: 0.821 D_real: 0.344 D_fake: 0.304 \n",
            "(epoch: 11, iters: 1480, time: 1.351) G_GAN: 2.283 G_GAN_Feat: 12.419 G_VGG: 0.779 D_real: 0.045 D_fake: 0.022 \n",
            "saving the latest model (epoch 11, total_steps 36000)\n",
            "(epoch: 11, iters: 1580, time: 1.351) G_GAN: 1.494 G_GAN_Feat: 12.413 G_VGG: 0.860 D_real: 0.019 D_fake: 0.048 \n",
            "(epoch: 11, iters: 1680, time: 1.350) G_GAN: 0.213 G_GAN_Feat: 10.914 G_VGG: 0.629 D_real: 0.019 D_fake: 1.005 \n",
            "(epoch: 11, iters: 1780, time: 1.351) G_GAN: 1.671 G_GAN_Feat: 9.791 G_VGG: 0.544 D_real: 0.045 D_fake: 0.096 \n",
            "(epoch: 11, iters: 1880, time: 1.351) G_GAN: 1.308 G_GAN_Feat: 4.023 G_VGG: 0.144 D_real: 0.734 D_fake: 0.091 \n",
            "(epoch: 11, iters: 1980, time: 1.351) G_GAN: 0.201 G_GAN_Feat: 8.763 G_VGG: 0.708 D_real: 0.014 D_fake: 1.006 \n",
            "(epoch: 11, iters: 2080, time: 1.351) G_GAN: 2.359 G_GAN_Feat: 9.948 G_VGG: 0.701 D_real: 0.099 D_fake: 0.067 \n",
            "(epoch: 11, iters: 2180, time: 1.351) G_GAN: 1.845 G_GAN_Feat: 10.741 G_VGG: 0.695 D_real: 0.044 D_fake: 0.013 \n",
            "(epoch: 11, iters: 2280, time: 1.351) G_GAN: 1.388 G_GAN_Feat: 10.712 G_VGG: 0.510 D_real: 0.022 D_fake: 0.201 \n",
            "(epoch: 11, iters: 2380, time: 1.351) G_GAN: 1.985 G_GAN_Feat: 10.581 G_VGG: 0.748 D_real: 0.027 D_fake: 0.011 \n",
            "(epoch: 11, iters: 2480, time: 1.351) G_GAN: 1.114 G_GAN_Feat: 2.597 G_VGG: 0.156 D_real: 0.017 D_fake: 0.146 \n",
            "saving the latest model (epoch 11, total_steps 37000)\n"
          ],
          "name": "stdout"
        }
      ]
    },
    {
      "cell_type": "markdown",
      "metadata": {
        "id": "Jly_3OyBoGg2",
        "colab_type": "text"
      },
      "source": [
        "#Generating Videos"
      ]
    },
    {
      "cell_type": "code",
      "metadata": {
        "id": "UiaLMDmdDG3t",
        "colab_type": "code",
        "outputId": "55844c68-e8d4-4814-9b4a-edd695064ec6",
        "colab": {
          "base_uri": "https://localhost:8080/",
          "height": 34
        }
      },
      "source": [
        "import os\n",
        "\n",
        "def processFolder(folder, epoch = 10, frameCount = 240, skipCount = 1):\n",
        "  files = os.listdir(folder)\n",
        "\n",
        "  count = 0\n",
        "  for f in files:\n",
        "    \n",
        "    if (count % skipCount == 0):\n",
        "      print(f)\n",
        "      command = 'python generate_video.py --name glitch_project --dataroot ./datasets/glitch_dataset/ --fps 24 --how_many %i --which_epoch %i --start_from %s/%s' % ( frameCount, epoch, folder, f)\n",
        "      os.system(command)\n",
        "    count += 1\n",
        "\n",
        "processFolder('./datasets/glitch_dataset/train_frames',4,360,550)"
      ],
      "execution_count": 0,
      "outputs": [
        {
          "output_type": "stream",
          "text": [
            "frame-002468.jpg\n"
          ],
          "name": "stdout"
        }
      ]
    },
    {
      "cell_type": "code",
      "metadata": {
        "id": "INVUtG-pt_F6",
        "colab_type": "code",
        "outputId": "d3fc9440-2de7-4eaf-9641-8644025b96b6",
        "colab": {
          "base_uri": "https://localhost:8080/",
          "height": 1000
        }
      },
      "source": [
        "!python generate_video.py --name glitch_project --dataroot ./datasets/glitch_dataset/ --fps 24 --how_many 500 --which_epoch 8 --start_from /content/drive/My\\ Drive/nfp-colab/pix2pixHD/datasets/glitch_dataset/train_frames/frame-001566.jpg"
      ],
      "execution_count": 0,
      "outputs": [
        {
          "output_type": "stream",
          "text": [
            "------------ Options -------------\n",
            "aspect_ratio: 1.0\n",
            "batchSize: 1\n",
            "checkpoints_dir: ./checkpoints\n",
            "cluster_path: features_clustered_010.npy\n",
            "data_type: 32\n",
            "dataroot: ./datasets/glitch_dataset/\n",
            "display_winsize: 512\n",
            "engine: None\n",
            "export_onnx: None\n",
            "feat_num: 3\n",
            "fineSize: 512\n",
            "fp16: False\n",
            "fps: 24.0\n",
            "gpu_ids: [0]\n",
            "heat_seeking_lvl: 0\n",
            "how_many: 500\n",
            "input_nc: 3\n",
            "instance_feat: False\n",
            "isTrain: False\n",
            "label_feat: False\n",
            "label_nc: 35\n",
            "loadSize: 1024\n",
            "load_features: False\n",
            "local_rank: 0\n",
            "max_dataset_size: inf\n",
            "model: pix2pixHD\n",
            "nThreads: 2\n",
            "n_blocks_global: 9\n",
            "n_blocks_local: 3\n",
            "n_clusters: 10\n",
            "n_downsample_E: 4\n",
            "n_downsample_global: 4\n",
            "n_local_enhancers: 1\n",
            "name: glitch_project\n",
            "nef: 16\n",
            "netG: global\n",
            "ngf: 64\n",
            "niter_fix_global: 0\n",
            "no_flip: False\n",
            "no_instance: False\n",
            "norm: instance\n",
            "ntest: inf\n",
            "onnx: None\n",
            "output_nc: 3\n",
            "phase: test\n",
            "pstart: 1\n",
            "pstop: 1\n",
            "resize_or_crop: scale_width\n",
            "results_dir: ./results/\n",
            "scheduled_sampling: False\n",
            "serial_batches: False\n",
            "ss_recursion_prob: 0.2\n",
            "start_from: /content/drive/My Drive/nfp-colab/pix2pixHD/datasets/glitch_dataset/train_frames/frame-001566.jpg\n",
            "tf_log: False\n",
            "use_dropout: False\n",
            "use_encoded_image: False\n",
            "verbose: False\n",
            "video_mode: False\n",
            "which_epoch: 8\n",
            "zoom_lvl: 0\n",
            "-------------- End ----------------\n",
            "CustomDatasetDataLoader\n",
            "dataset [FrameDataset] was created\n",
            "FrameDataset initialized from: ./datasets/glitch_dataset/test_frames\n",
            "contains 60 frames, 59 consecutive pairs\n",
            "/content/drive/My Drive/nfp-colab/pix2pixHD/datasets/glitch_dataset/train_frames/frame-001566.jpg\n",
            "so far so good\n",
            "\n",
            "100% 500/500 [02:28<00:00,  3.37it/s]\n",
            "ffmpeg -v 16 -framerate 24 -i ./checkpoints/glitch_project/frames/frame-%05d.jpg -ss 1 -q:v 2 -filter:v \"crop=1280:720:0:16\" ./checkpoints/glitch_project/output/epoch-8_glitch_project_20.8-s_24.0-fps_frame-001566.jpg.mp4\n",
            "building video from frames\n",
            "video ready:\n",
            "./checkpoints/glitch_project/output/epoch-8_glitch_project_20.8-s_24.0-fps_frame-001566.jpg.mp4\n"
          ],
          "name": "stdout"
        }
      ]
    },
    {
      "cell_type": "code",
      "metadata": {
        "id": "J5xWj44noo_E",
        "colab_type": "code",
        "outputId": "15d12753-7665-439f-cd5c-b7b36d6ceeff",
        "colab": {
          "base_uri": "https://localhost:8080/",
          "height": 204
        }
      },
      "source": [
        "!git pull"
      ],
      "execution_count": 0,
      "outputs": [
        {
          "output_type": "stream",
          "text": [
            "remote: Enumerating objects: 3, done.\u001b[K\n",
            "remote: Counting objects:  33% (1/3)\u001b[K\rremote: Counting objects:  66% (2/3)\u001b[K\rremote: Counting objects: 100% (3/3)\u001b[K\rremote: Counting objects: 100% (3/3), done.\u001b[K\n",
            "remote: Compressing objects:  33% (1/3)\u001b[K\rremote: Compressing objects:  66% (2/3)\u001b[K\rremote: Compressing objects: 100% (3/3)\u001b[K\rremote: Compressing objects: 100% (3/3), done.\u001b[K\n",
            "remote: Total 3 (delta 0), reused 0 (delta 0), pack-reused 0\u001b[K\n",
            "Unpacking objects:  33% (1/3)   \rUnpacking objects:  66% (2/3)   \rUnpacking objects: 100% (3/3)   \rUnpacking objects: 100% (3/3), done.\n",
            "From https://github.com/dvschultz/pix2pixHD\n",
            "   314f35e..68525bf  video      -> origin/video\n",
            "Updating 314f35e..68525bf\n",
            "Fast-forward\n",
            " generate_video.py | 2 \u001b[32m+\u001b[m\u001b[31m-\u001b[m\n",
            " 1 file changed, 1 insertion(+), 1 deletion(-)\n"
          ],
          "name": "stdout"
        }
      ]
    },
    {
      "cell_type": "code",
      "metadata": {
        "id": "jofBBzcnpu9V",
        "colab_type": "code",
        "colab": {}
      },
      "source": [
        ""
      ],
      "execution_count": 0,
      "outputs": []
    }
  ]
}